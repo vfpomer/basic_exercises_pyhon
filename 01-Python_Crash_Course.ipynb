{
 "cells": [
  {
   "cell_type": "markdown",
   "metadata": {
    "id": "sLr9pWlRIAne"
   },
   "source": [
    "# Python Crash Course\n",
    "____\n",
    "En este primer apartado visitaremos los siguientes conceptos elementales del lenguaje de programación que vamos a usar durante todo el curso:\n",
    "\n",
    "* Tipos de datos\n",
    "    * Números\n",
    "    * Cadenas\n",
    "    * Printing\n",
    "    * Listas\n",
    "    * Dictionarios\n",
    "    * Booleanos\n",
    "    * Tuplas \n",
    "    * Sets\n",
    "* Operadores de comparación\n",
    "* Operadores de condicionalidad\n",
    "* Bucles for\n",
    "* Bucles while\n",
    "* range()\n",
    "* Listas de comprensión\n",
    "* Funciones\n",
    "* Expresiones lambda\n",
    "* Mapeado y filtrado\n",
    "* Métodos\n",
    "____"
   ]
  },
  {
   "cell_type": "markdown",
   "metadata": {
    "id": "meILnM-ZIAnj"
   },
   "source": [
    "## Tipos de datos"
   ]
  },
  {
   "cell_type": "markdown",
   "metadata": {
    "id": "Vj3ObLmlKqPH"
   },
   "source": [
    "### Números"
   ]
  },
  {
   "cell_type": "markdown",
   "metadata": {
    "id": "3sCsX6nMMeRb"
   },
   "source": [
    "Forman parte del tipo de dato más básico, y con ellos podemos realizar todas las operaciones elementales, tales como:"
   ]
  },
  {
   "cell_type": "markdown",
   "metadata": {
    "id": "ZXi2ok1sJV1K"
   },
   "source": [
    "Sumas"
   ]
  },
  {
   "cell_type": "code",
   "execution_count": 1,
   "metadata": {
    "colab": {
     "base_uri": "https://localhost:8080/"
    },
    "executionInfo": {
     "elapsed": 258,
     "status": "ok",
     "timestamp": 1652615893386,
     "user": {
      "displayName": "Andrés Mateo Piñol",
      "userId": "06388070174337757510"
     },
     "user_tz": -120
    },
    "id": "8f2ZbA7RIAnj",
    "outputId": "4b54f656-5eb8-4996-cf75-96f0f465cdeb"
   },
   "outputs": [
    {
     "data": {
      "text/plain": [
       "2"
      ]
     },
     "execution_count": 1,
     "metadata": {},
     "output_type": "execute_result"
    }
   ],
   "source": [
    "1 + 1"
   ]
  },
  {
   "cell_type": "markdown",
   "metadata": {
    "id": "xxy2ZzO0JWxt"
   },
   "source": [
    "Productos"
   ]
  },
  {
   "cell_type": "code",
   "execution_count": 2,
   "metadata": {
    "colab": {
     "base_uri": "https://localhost:8080/"
    },
    "executionInfo": {
     "elapsed": 253,
     "status": "ok",
     "timestamp": 1652615894903,
     "user": {
      "displayName": "Andrés Mateo Piñol",
      "userId": "06388070174337757510"
     },
     "user_tz": -120
    },
    "id": "cR5KO2OsIAnk",
    "outputId": "0b493ecf-aa52-46bb-9d09-4a84bd7b2320"
   },
   "outputs": [
    {
     "data": {
      "text/plain": [
       "3"
      ]
     },
     "execution_count": 2,
     "metadata": {},
     "output_type": "execute_result"
    }
   ],
   "source": [
    "1 * 3"
   ]
  },
  {
   "cell_type": "markdown",
   "metadata": {
    "id": "X5r0kxIYJXrc"
   },
   "source": [
    "Divisiones"
   ]
  },
  {
   "cell_type": "code",
   "execution_count": null,
   "metadata": {
    "colab": {
     "base_uri": "https://localhost:8080/"
    },
    "executionInfo": {
     "elapsed": 8,
     "status": "ok",
     "timestamp": 1652615889039,
     "user": {
      "displayName": "Andrés Mateo Piñol",
      "userId": "06388070174337757510"
     },
     "user_tz": -120
    },
    "id": "OW1zRT48IAnl",
    "outputId": "47d5bf3e-df8e-424e-f4e8-75e8b868193b"
   },
   "outputs": [
    {
     "data": {
      "text/plain": [
       "0.5"
      ]
     },
     "execution_count": 2,
     "metadata": {},
     "output_type": "execute_result"
    }
   ],
   "source": [
    "1 / 2"
   ]
  },
  {
   "cell_type": "markdown",
   "metadata": {
    "id": "LTz1xzcmJYcK"
   },
   "source": [
    "Potencias"
   ]
  },
  {
   "cell_type": "code",
   "execution_count": null,
   "metadata": {
    "colab": {
     "base_uri": "https://localhost:8080/"
    },
    "executionInfo": {
     "elapsed": 14,
     "status": "ok",
     "timestamp": 1652615889039,
     "user": {
      "displayName": "Andrés Mateo Piñol",
      "userId": "06388070174337757510"
     },
     "user_tz": -120
    },
    "id": "89xOn97oIAnl",
    "outputId": "7f8f1054-41e3-4b70-9d1a-210f32214286"
   },
   "outputs": [
    {
     "data": {
      "text/plain": [
       "16"
      ]
     },
     "execution_count": 1,
     "metadata": {},
     "output_type": "execute_result"
    }
   ],
   "source": [
    "2 ** 4"
   ]
  },
  {
   "cell_type": "markdown",
   "metadata": {
    "id": "ZYsX2-IFJZn5"
   },
   "source": [
    "Congruencias modulares: Dado un cierto número natural *n*, es de gran interés en muchos problemas saber cuál va a ser el resto de otro cierto número *m* al dividirlo por *n*; esto es, el resto de la división *m/n*:"
   ]
  },
  {
   "cell_type": "code",
   "execution_count": null,
   "metadata": {
    "colab": {
     "base_uri": "https://localhost:8080/"
    },
    "executionInfo": {
     "elapsed": 304,
     "status": "ok",
     "timestamp": 1652627669770,
     "user": {
      "displayName": "Andrés Mateo Piñol",
      "userId": "06388070174337757510"
     },
     "user_tz": -120
    },
    "id": "xQKL_jilIAnl",
    "outputId": "67893346-7b63-4e65-9a0d-63c291003820"
   },
   "outputs": [
    {
     "data": {
      "text/plain": [
       "0"
      ]
     },
     "execution_count": 1,
     "metadata": {},
     "output_type": "execute_result"
    }
   ],
   "source": [
    "4 % 2"
   ]
  },
  {
   "cell_type": "code",
   "execution_count": null,
   "metadata": {
    "colab": {
     "base_uri": "https://localhost:8080/"
    },
    "executionInfo": {
     "elapsed": 241,
     "status": "ok",
     "timestamp": 1652627671188,
     "user": {
      "displayName": "Andrés Mateo Piñol",
      "userId": "06388070174337757510"
     },
     "user_tz": -120
    },
    "id": "h1jT43DmIAnm",
    "outputId": "f38a2eb3-b5fd-4ea6-d54a-74e24396fee8"
   },
   "outputs": [
    {
     "data": {
      "text/plain": [
       "1"
      ]
     },
     "execution_count": 2,
     "metadata": {},
     "output_type": "execute_result"
    }
   ],
   "source": [
    "5 % 2"
   ]
  },
  {
   "cell_type": "markdown",
   "metadata": {
    "id": "6u1rXBsbJwXZ"
   },
   "source": [
    "Python también distingue las prodiedades numéricas tales como la asociativa o la distributiva"
   ]
  },
  {
   "cell_type": "code",
   "execution_count": null,
   "metadata": {
    "colab": {
     "base_uri": "https://localhost:8080/"
    },
    "executionInfo": {
     "elapsed": 1965,
     "status": "ok",
     "timestamp": 1613735630712,
     "user": {
      "displayName": "Antonio Zarauz",
      "photoUrl": "https://lh3.googleusercontent.com/a-/AOh14GgtO8nEuu89OGTxFt1-tPpQH0g3g58ZPuU77GYb=s64",
      "userId": "06376112960872681649"
     },
     "user_tz": -60
    },
    "id": "ziYONzRpIAnm",
    "outputId": "e5120159-1ee5-4227-afe0-644a079c0c3d"
   },
   "outputs": [
    {
     "data": {
      "text/plain": [
       "50"
      ]
     },
     "execution_count": 7,
     "metadata": {
      "tags": []
     },
     "output_type": "execute_result"
    }
   ],
   "source": [
    "(2 + 3) * (5 + 5)"
   ]
  },
  {
   "cell_type": "markdown",
   "metadata": {
    "id": "vjWY-nX5IAnm"
   },
   "source": [
    "### Asignación de variables"
   ]
  },
  {
   "cell_type": "markdown",
   "metadata": {
    "id": "8XixDh-uMgi1"
   },
   "source": [
    "Podemos localizar en Python variables para utilizarlas en distintas partes del código. Los nombres de las mismas no pueden comenzar por caracteres numéricos ni especiales:"
   ]
  },
  {
   "cell_type": "code",
   "execution_count": null,
   "metadata": {
    "collapsed": true,
    "id": "_eiMFh9MIAnn"
   },
   "outputs": [],
   "source": [
    "x = 2\n",
    "y = 3"
   ]
  },
  {
   "cell_type": "markdown",
   "metadata": {
    "id": "jTDtPSk5L-X8"
   },
   "source": [
    "Con dichas variables, en función del tipo que sean, también podrán operar entre ellas"
   ]
  },
  {
   "cell_type": "code",
   "execution_count": null,
   "metadata": {
    "collapsed": true,
    "id": "ykFv0EB7IAnn"
   },
   "outputs": [],
   "source": [
    "z = x + y"
   ]
  },
  {
   "cell_type": "code",
   "execution_count": null,
   "metadata": {
    "colab": {
     "base_uri": "https://localhost:8080/"
    },
    "executionInfo": {
     "elapsed": 232,
     "status": "ok",
     "timestamp": 1652627698605,
     "user": {
      "displayName": "Andrés Mateo Piñol",
      "userId": "06388070174337757510"
     },
     "user_tz": -120
    },
    "id": "ENdod001IAnn",
    "outputId": "9f233dca-f01f-4697-c304-8c408d1c4ed0"
   },
   "outputs": [
    {
     "data": {
      "text/plain": [
       "5"
      ]
     },
     "execution_count": 5,
     "metadata": {},
     "output_type": "execute_result"
    }
   ],
   "source": [
    "z"
   ]
  },
  {
   "cell_type": "markdown",
   "metadata": {
    "id": "DjeHwP03MPlG"
   },
   "source": [
    "Para consultar qué tipo de variable es, efectuamos:"
   ]
  },
  {
   "cell_type": "code",
   "execution_count": null,
   "metadata": {
    "colab": {
     "base_uri": "https://localhost:8080/"
    },
    "executionInfo": {
     "elapsed": 248,
     "status": "ok",
     "timestamp": 1652627704188,
     "user": {
      "displayName": "Andrés Mateo Piñol",
      "userId": "06388070174337757510"
     },
     "user_tz": -120
    },
    "id": "ZSKmT3G3MR-o",
    "outputId": "2b2a2932-9eb1-49a8-ed4c-ea210f1c2dca"
   },
   "outputs": [
    {
     "data": {
      "text/plain": [
       "int"
      ]
     },
     "execution_count": 6,
     "metadata": {},
     "output_type": "execute_result"
    }
   ],
   "source": [
    "type(z)"
   ]
  },
  {
   "cell_type": "markdown",
   "metadata": {
    "id": "zyExv0v_IAnn"
   },
   "source": [
    "### Cadenas"
   ]
  },
  {
   "cell_type": "markdown",
   "metadata": {
    "id": "lxTxFpxYNIKe"
   },
   "source": [
    "Las cadenas o *strings* contienen texto, y podemos inicializarlas con un asterisco simple, *'*, o un asterisco doble, \":"
   ]
  },
  {
   "cell_type": "code",
   "execution_count": null,
   "metadata": {
    "colab": {
     "base_uri": "https://localhost:8080/",
     "height": 36
    },
    "executionInfo": {
     "elapsed": 245,
     "status": "ok",
     "timestamp": 1652627711348,
     "user": {
      "displayName": "Andrés Mateo Piñol",
      "userId": "06388070174337757510"
     },
     "user_tz": -120
    },
    "id": "av6zmjDaIAno",
    "outputId": "1f647704-3a76-42df-ff6c-18d27e658104"
   },
   "outputs": [
    {
     "data": {
      "application/vnd.google.colaboratory.intrinsic+json": {
       "type": "string"
      },
      "text/plain": [
       "'Texto inicializado con asteriscos simples'"
      ]
     },
     "execution_count": 7,
     "metadata": {},
     "output_type": "execute_result"
    }
   ],
   "source": [
    "'Texto inicializado con asteriscos simples'"
   ]
  },
  {
   "cell_type": "code",
   "execution_count": null,
   "metadata": {
    "colab": {
     "base_uri": "https://localhost:8080/",
     "height": 36
    },
    "executionInfo": {
     "elapsed": 9,
     "status": "ok",
     "timestamp": 1652627711641,
     "user": {
      "displayName": "Andrés Mateo Piñol",
      "userId": "06388070174337757510"
     },
     "user_tz": -120
    },
    "id": "UCDKMnX3IAno",
    "outputId": "3801e53e-8b9c-400f-c38f-7bf361923dd2"
   },
   "outputs": [
    {
     "data": {
      "application/vnd.google.colaboratory.intrinsic+json": {
       "type": "string"
      },
      "text/plain": [
       "'Texto inicializado con asteriscos dobles'"
      ]
     },
     "execution_count": 8,
     "metadata": {},
     "output_type": "execute_result"
    }
   ],
   "source": [
    "\"Texto inicializado con asteriscos dobles\""
   ]
  },
  {
   "cell_type": "markdown",
   "metadata": {
    "id": "D7Qa5rYDNfKp"
   },
   "source": [
    "También podemos combinar ambos a fin de poder escribir contracciones y/u otras expresiones lingüísticas. En tal caso, el asterisco doble debe ser el que inicialice el texto, y usaremos el simple en el transcurso del mismo:"
   ]
  },
  {
   "cell_type": "code",
   "execution_count": null,
   "metadata": {
    "colab": {
     "base_uri": "https://localhost:8080/",
     "height": 36
    },
    "executionInfo": {
     "elapsed": 9,
     "status": "ok",
     "timestamp": 1652627711642,
     "user": {
      "displayName": "Andrés Mateo Piñol",
      "userId": "06388070174337757510"
     },
     "user_tz": -120
    },
    "id": "mKj_lU00IAno",
    "outputId": "3f3c49b4-9419-4923-d40d-81545f7b63d0"
   },
   "outputs": [
    {
     "data": {
      "application/vnd.google.colaboratory.intrinsic+json": {
       "type": "string"
      },
      "text/plain": [
       "\"Let's hit Python Crash Course!\""
      ]
     },
     "execution_count": 9,
     "metadata": {},
     "output_type": "execute_result"
    }
   ],
   "source": [
    "\"Let's hit Python Crash Course!\""
   ]
  },
  {
   "cell_type": "markdown",
   "metadata": {
    "id": "ARTuMke3IAno"
   },
   "source": [
    "### Printing"
   ]
  },
  {
   "cell_type": "markdown",
   "metadata": {
    "id": "aVd0lRizOOgs"
   },
   "source": [
    "Es muy frecuente tener que mostrar variables por pantalla para poder comprobar los resultados de ciertos procesos. Para ello, creamos nuestra variable, que en este caso va a ser la clásica cadena *Hello world!*, y mostramos el comando en cuestión:"
   ]
  },
  {
   "cell_type": "code",
   "execution_count": null,
   "metadata": {
    "colab": {
     "base_uri": "https://localhost:8080/"
    },
    "collapsed": true,
    "executionInfo": {
     "elapsed": 218,
     "status": "ok",
     "timestamp": 1652627796231,
     "user": {
      "displayName": "Andrés Mateo Piñol",
      "userId": "06388070174337757510"
     },
     "user_tz": -120
    },
    "id": "elTyrvcfIAno",
    "outputId": "37b7ee21-a509-4a76-a4df-1830c9a4f075"
   },
   "outputs": [
    {
     "name": "stdout",
     "output_type": "stream",
     "text": [
      "Hello world!\n"
     ]
    }
   ],
   "source": [
    "x = 'Hello world!'\n",
    "print(x)"
   ]
  },
  {
   "cell_type": "markdown",
   "metadata": {
    "id": "EQgzu-YtOlym"
   },
   "source": [
    "De forma eventual, también se puede mostrar el valor de una variable sin necesidad de usar este comando, aunque *print()* es muy práctico cuando en una misma ejecución se mezclan diversas salidas por pantalla:"
   ]
  },
  {
   "cell_type": "code",
   "execution_count": null,
   "metadata": {
    "colab": {
     "base_uri": "https://localhost:8080/",
     "height": 36
    },
    "executionInfo": {
     "elapsed": 7,
     "status": "ok",
     "timestamp": 1652627796465,
     "user": {
      "displayName": "Andrés Mateo Piñol",
      "userId": "06388070174337757510"
     },
     "user_tz": -120
    },
    "id": "WBXRifV6IAnp",
    "outputId": "24c50415-dad3-4b84-98bd-64b6b0090e96"
   },
   "outputs": [
    {
     "data": {
      "application/vnd.google.colaboratory.intrinsic+json": {
       "type": "string"
      },
      "text/plain": [
       "'Hello world!'"
      ]
     },
     "execution_count": 11,
     "metadata": {},
     "output_type": "execute_result"
    }
   ],
   "source": [
    "x"
   ]
  },
  {
   "cell_type": "markdown",
   "metadata": {
    "id": "r6nnkn5BOxHL"
   },
   "source": [
    "Veamos ahora cómo concatenar en un mismo *print()* diversas cadenas o valores concatenados:"
   ]
  },
  {
   "cell_type": "code",
   "execution_count": null,
   "metadata": {
    "collapsed": true,
    "id": "0Wvt67_zIAnp"
   },
   "outputs": [],
   "source": [
    "num = 12\n",
    "name = 'Sam'"
   ]
  },
  {
   "cell_type": "code",
   "execution_count": null,
   "metadata": {
    "colab": {
     "base_uri": "https://localhost:8080/"
    },
    "executionInfo": {
     "elapsed": 6,
     "status": "ok",
     "timestamp": 1652627796466,
     "user": {
      "displayName": "Andrés Mateo Piñol",
      "userId": "06388070174337757510"
     },
     "user_tz": -120
    },
    "id": "avz1eEyPIAnp",
    "outputId": "45dd7562-9247-43bd-b62c-388f17f89c70"
   },
   "outputs": [
    {
     "name": "stdout",
     "output_type": "stream",
     "text": [
      "My number is: 12, and my name is: Sam\n"
     ]
    }
   ],
   "source": [
    "print('My number is: {one}, and my name is: {two}'.format(one=num,two=name))"
   ]
  },
  {
   "cell_type": "markdown",
   "metadata": {
    "id": "Y1OxIo0DO55t"
   },
   "source": [
    "Si no especificamos el nombre de las variables en el método *.format()*, se mostrarán de manera ordenada:"
   ]
  },
  {
   "cell_type": "code",
   "execution_count": null,
   "metadata": {
    "colab": {
     "base_uri": "https://localhost:8080/"
    },
    "executionInfo": {
     "elapsed": 289,
     "status": "ok",
     "timestamp": 1652627796749,
     "user": {
      "displayName": "Andrés Mateo Piñol",
      "userId": "06388070174337757510"
     },
     "user_tz": -120
    },
    "id": "mcpKQyfyIAnp",
    "outputId": "601d59fe-71d0-480b-86b8-f42e71211487"
   },
   "outputs": [
    {
     "name": "stdout",
     "output_type": "stream",
     "text": [
      "My number is: 12, and my name is: Sam\n"
     ]
    }
   ],
   "source": [
    "print('My number is: {}, and my name is: {}'.format(num,name))"
   ]
  },
  {
   "cell_type": "markdown",
   "metadata": {
    "id": "MBzvssLCIAnq"
   },
   "source": [
    "### Listas"
   ]
  },
  {
   "cell_type": "markdown",
   "metadata": {
    "id": "PRrRwWFOPyeK"
   },
   "source": [
    "Las listas son uno de los datos más frecuentes en Python, en buena medida atribuído al uso de lo que se conocen como *listas de comprensión*, que veremos más adelante. Se inicializan mediante corchetes, y sus elementos se separan por comas. En ellas, se pueden incluir tanto números, como cadenas o incluso otras listas concatenadas:"
   ]
  },
  {
   "cell_type": "code",
   "execution_count": null,
   "metadata": {
    "colab": {
     "base_uri": "https://localhost:8080/"
    },
    "executionInfo": {
     "elapsed": 1878,
     "status": "ok",
     "timestamp": 1613735630718,
     "user": {
      "displayName": "Antonio Zarauz",
      "photoUrl": "https://lh3.googleusercontent.com/a-/AOh14GgtO8nEuu89OGTxFt1-tPpQH0g3g58ZPuU77GYb=s64",
      "userId": "06376112960872681649"
     },
     "user_tz": -60
    },
    "id": "3orJpwEFIAnq",
    "outputId": "6f1e944e-41a5-4179-a263-f56907189e96"
   },
   "outputs": [
    {
     "data": {
      "text/plain": [
       "[1, 2, 3]"
      ]
     },
     "execution_count": 21,
     "metadata": {
      "tags": []
     },
     "output_type": "execute_result"
    }
   ],
   "source": [
    "[1,2,3]"
   ]
  },
  {
   "cell_type": "code",
   "execution_count": null,
   "metadata": {
    "colab": {
     "base_uri": "https://localhost:8080/"
    },
    "executionInfo": {
     "elapsed": 1868,
     "status": "ok",
     "timestamp": 1613735630718,
     "user": {
      "displayName": "Antonio Zarauz",
      "photoUrl": "https://lh3.googleusercontent.com/a-/AOh14GgtO8nEuu89OGTxFt1-tPpQH0g3g58ZPuU77GYb=s64",
      "userId": "06376112960872681649"
     },
     "user_tz": -60
    },
    "id": "b1tOOjVxIAnq",
    "outputId": "0b7ec95d-d886-4e6c-fc26-7f8e21ea2f44"
   },
   "outputs": [
    {
     "data": {
      "text/plain": [
       "['hi', 1, [1, 2]]"
      ]
     },
     "execution_count": 22,
     "metadata": {
      "tags": []
     },
     "output_type": "execute_result"
    }
   ],
   "source": [
    "['hi',1,[1,2]]"
   ]
  },
  {
   "cell_type": "markdown",
   "metadata": {
    "id": "gqylFVzyQR9X"
   },
   "source": [
    "Una operación muy frecuente en las listas es el añadir elementos al final de la misma, para lo cual usamos el método *.append()*:"
   ]
  },
  {
   "cell_type": "code",
   "execution_count": null,
   "metadata": {
    "colab": {
     "base_uri": "https://localhost:8080/"
    },
    "collapsed": true,
    "executionInfo": {
     "elapsed": 318,
     "status": "ok",
     "timestamp": 1652780069382,
     "user": {
      "displayName": "Andrés Mateo Piñol",
      "userId": "06388070174337757510"
     },
     "user_tz": -120
    },
    "id": "UnAvBju3IAnq",
    "outputId": "efd4f8b1-3578-4ee3-c493-6890c5651fd3"
   },
   "outputs": [
    {
     "name": "stdout",
     "output_type": "stream",
     "text": [
      "Lista original: ['a', 'b', 'c']\n",
      "Lista con nuevos elementos: ['a', 'b', 'c', 'd']\n"
     ]
    }
   ],
   "source": [
    "sample_list = ['a','b','c']\n",
    "print('Lista original: {}'.format(sample_list))\n",
    "sample_list.append('d')\n",
    "print('Lista con nuevos elementos: {}'.format(sample_list))"
   ]
  },
  {
   "cell_type": "markdown",
   "metadata": {
    "id": "8v4N8YI-Qmd1"
   },
   "source": [
    "Para manejar los elementos de las listas, tendremos qeu saber cómo indexarlas. En el caso más elemental, los podemos obtener individualmente introduciendo al final de la misma entre corchetes el índice del elemento que deseamos recuperar *(**en Python, los índices comienzan por el valor cero**)*:"
   ]
  },
  {
   "cell_type": "code",
   "execution_count": null,
   "metadata": {
    "colab": {
     "base_uri": "https://localhost:8080/"
    },
    "executionInfo": {
     "elapsed": 271,
     "status": "ok",
     "timestamp": 1652628904977,
     "user": {
      "displayName": "Andrés Mateo Piñol",
      "userId": "06388070174337757510"
     },
     "user_tz": -120
    },
    "id": "jmZjQrBJIAnr",
    "outputId": "afd7c1bd-723e-4699-b6e7-f4f61a28a113"
   },
   "outputs": [
    {
     "name": "stdout",
     "output_type": "stream",
     "text": [
      "Lista completa: ['a', 'b', 'c', 'd']\n",
      "Primer elemento: a\n",
      "Segundo elemento: b\n"
     ]
    }
   ],
   "source": [
    "print('Lista completa: {}'.format(sample_list))\n",
    "print('Primer elemento: {}'.format(sample_list[0]))\n",
    "print('Segundo elemento: {}'.format(sample_list[1]))"
   ]
  },
  {
   "cell_type": "markdown",
   "metadata": {
    "id": "qU3PPI_XS2bv"
   },
   "source": [
    "A los elementos finales de la lista, podemos acceder directamente a través de su índice, o indexando números negativos, lo cual es muy práctico ya que mucha veces la longitud de la lista es variable o no conocemos dicha longitud:"
   ]
  },
  {
   "cell_type": "code",
   "execution_count": null,
   "metadata": {
    "colab": {
     "base_uri": "https://localhost:8080/"
    },
    "executionInfo": {
     "elapsed": 470,
     "status": "ok",
     "timestamp": 1613738342715,
     "user": {
      "displayName": "Antonio Zarauz",
      "photoUrl": "https://lh3.googleusercontent.com/a-/AOh14GgtO8nEuu89OGTxFt1-tPpQH0g3g58ZPuU77GYb=s64",
      "userId": "06376112960872681649"
     },
     "user_tz": -60
    },
    "id": "6QOTPh62S8mh",
    "outputId": "b64c99cd-ebbb-470d-d6c4-d963f943062e"
   },
   "outputs": [
    {
     "name": "stdout",
     "output_type": "stream",
     "text": [
      "Último elemento: d\n",
      "Último elemento usando índices negativos: d\n",
      "Penúltimo elemento: c\n",
      "Penúltimo elemento usando índices negativos: c\n"
     ]
    }
   ],
   "source": [
    "print('Último elemento: {}'.format(sample_list[3]))\n",
    "print('Último elemento usando índices negativos: {}'.format(sample_list[-1]))\n",
    "print('Penúltimo elemento: {}'.format(sample_list[2]))\n",
    "print('Penúltimo elemento usando índices negativos: {}'.format(sample_list[-2]))"
   ]
  },
  {
   "cell_type": "markdown",
   "metadata": {
    "id": "5walH54cQ0XD"
   },
   "source": [
    "Para obtener más de un elemento consecutivo, usaremos el símbolo *:*, teniendo en cuenta que en Python los intervalos se escogen de manera que se incluye el elemento inicial y se excluye el final:"
   ]
  },
  {
   "cell_type": "code",
   "execution_count": null,
   "metadata": {
    "colab": {
     "base_uri": "https://localhost:8080/"
    },
    "executionInfo": {
     "elapsed": 486,
     "status": "ok",
     "timestamp": 1613738061236,
     "user": {
      "displayName": "Antonio Zarauz",
      "photoUrl": "https://lh3.googleusercontent.com/a-/AOh14GgtO8nEuu89OGTxFt1-tPpQH0g3g58ZPuU77GYb=s64",
      "userId": "06376112960872681649"
     },
     "user_tz": -60
    },
    "id": "TBJO6GElIAnr",
    "outputId": "e695323d-c7e9-4c19-e85c-1e69ac8b69e9"
   },
   "outputs": [
    {
     "data": {
      "text/plain": [
       "['b', 'c']"
      ]
     },
     "execution_count": 58,
     "metadata": {
      "tags": []
     },
     "output_type": "execute_result"
    }
   ],
   "source": [
    "#En este caso, recuperaríamos los elementos de índices 1 y 2, ya que es excluyente por la derecha\n",
    "sample_list[1:3]"
   ]
  },
  {
   "cell_type": "markdown",
   "metadata": {
    "id": "hH9hW9JgRWfZ"
   },
   "source": [
    "Cuando omitimos uno de los extremos, se obtienen los elementos desde el principio o desde el final de la lista, respectivamente:"
   ]
  },
  {
   "cell_type": "code",
   "execution_count": null,
   "metadata": {
    "colab": {
     "base_uri": "https://localhost:8080/"
    },
    "executionInfo": {
     "elapsed": 449,
     "status": "ok",
     "timestamp": 1613738105625,
     "user": {
      "displayName": "Antonio Zarauz",
      "photoUrl": "https://lh3.googleusercontent.com/a-/AOh14GgtO8nEuu89OGTxFt1-tPpQH0g3g58ZPuU77GYb=s64",
      "userId": "06376112960872681649"
     },
     "user_tz": -60
    },
    "id": "PJK44i8yIAnr",
    "outputId": "1040904b-6a8d-49d9-95aa-95bb7ca0fe5a"
   },
   "outputs": [
    {
     "name": "stdout",
     "output_type": "stream",
     "text": [
      "Lista completa: ['a', 'b', 'c', 'd']\n",
      "Elementos hasta el índice 1, sin incluir: ['a']\n",
      "Elementos desde el índice 1, incluido: ['b', 'c', 'd']\n"
     ]
    }
   ],
   "source": [
    "print('Lista completa: {}'.format(sample_list))\n",
    "print('Elementos hasta el índice 1, sin incluir: {}'.format(sample_list[:1]))\n",
    "print('Elementos desde el índice 1, incluido: {}'.format(sample_list[1:]))"
   ]
  },
  {
   "cell_type": "markdown",
   "metadata": {
    "id": "SvJwqUDjTWFP"
   },
   "source": [
    "También podemos reasignar nuevos valores a los elementos de la lista:"
   ]
  },
  {
   "cell_type": "code",
   "execution_count": null,
   "metadata": {
    "colab": {
     "base_uri": "https://localhost:8080/"
    },
    "collapsed": true,
    "executionInfo": {
     "elapsed": 470,
     "status": "ok",
     "timestamp": 1613738397756,
     "user": {
      "displayName": "Antonio Zarauz",
      "photoUrl": "https://lh3.googleusercontent.com/a-/AOh14GgtO8nEuu89OGTxFt1-tPpQH0g3g58ZPuU77GYb=s64",
      "userId": "06376112960872681649"
     },
     "user_tz": -60
    },
    "id": "Q89gbss2IAns",
    "outputId": "76f8c4dc-1b7a-46ef-c229-7333994040c5"
   },
   "outputs": [
    {
     "name": "stdout",
     "output_type": "stream",
     "text": [
      "Lista modificada: ['NEW', 'b', 'c', 'd']\n"
     ]
    }
   ],
   "source": [
    "sample_list[0] = 'NEW'\n",
    "print('Lista modificada: {}'.format(sample_list))"
   ]
  },
  {
   "cell_type": "markdown",
   "metadata": {
    "id": "UaO74gy4T0qa"
   },
   "source": [
    "Veamos ahora cómo indexar listas concatenadas:"
   ]
  },
  {
   "cell_type": "code",
   "execution_count": null,
   "metadata": {
    "collapsed": true,
    "id": "PIF3Jv2FIAns"
   },
   "outputs": [],
   "source": [
    "nest = [1,2,3,[4,5,['target']]]"
   ]
  },
  {
   "cell_type": "code",
   "execution_count": null,
   "metadata": {
    "colab": {
     "base_uri": "https://localhost:8080/"
    },
    "executionInfo": {
     "elapsed": 426,
     "status": "ok",
     "timestamp": 1613738616283,
     "user": {
      "displayName": "Antonio Zarauz",
      "photoUrl": "https://lh3.googleusercontent.com/a-/AOh14GgtO8nEuu89OGTxFt1-tPpQH0g3g58ZPuU77GYb=s64",
      "userId": "06376112960872681649"
     },
     "user_tz": -60
    },
    "id": "GUsDO5nTIAns",
    "outputId": "9a282cae-5623-45be-b07a-c3a88f296997"
   },
   "outputs": [
    {
     "name": "stdout",
     "output_type": "stream",
     "text": [
      "Listas concatenadas: [1, 2, 3, [4, 5, ['target']]]\n",
      "Lista contenida en el último elemento de la lista original: [4, 5, ['target']]\n",
      "Último elemento de dicha lista: ['target']\n",
      "ÚAccedemos a su único valor: target\n"
     ]
    }
   ],
   "source": [
    "print('Listas concatenadas: {}'.format(nest))\n",
    "print('Lista contenida en el último elemento de la lista original: {}'.format(nest[-1]))\n",
    "print('Último elemento de dicha lista: {}'.format(nest[-1][-1]))\n",
    "print('Accedemos a su único valor: {}'.format(nest[-1][-1][0]))"
   ]
  },
  {
   "cell_type": "markdown",
   "metadata": {
    "id": "9Fmb_XLIIAnt"
   },
   "source": [
    "### Diccionarios"
   ]
  },
  {
   "cell_type": "markdown",
   "metadata": {
    "id": "SlHhMz0RUwj0"
   },
   "source": [
    "Los diccionarios nos permiten asociar a unos objetos (llamados *keys*), otros objetos (llamados *values*), y se inicializan de la siguiente forma:"
   ]
  },
  {
   "cell_type": "code",
   "execution_count": 43,
   "metadata": {
    "collapsed": true,
    "executionInfo": {
     "elapsed": 257,
     "status": "ok",
     "timestamp": 1652874467617,
     "user": {
      "displayName": "Andrés Mateo Piñol",
      "userId": "06388070174337757510"
     },
     "user_tz": -120
    },
    "id": "Tp5Tu8BkIAnt"
   },
   "outputs": [],
   "source": [
    "d = {'key1':'value1','key2':'value2'}"
   ]
  },
  {
   "cell_type": "markdown",
   "metadata": {
    "id": "7iKFQW_bVCDI"
   },
   "source": [
    "Para acceder a los respectivos valores de las *keys* y los *values*, hacemos:"
   ]
  },
  {
   "cell_type": "code",
   "execution_count": 44,
   "metadata": {
    "colab": {
     "base_uri": "https://localhost:8080/"
    },
    "executionInfo": {
     "elapsed": 236,
     "status": "ok",
     "timestamp": 1652874469808,
     "user": {
      "displayName": "Andrés Mateo Piñol",
      "userId": "06388070174337757510"
     },
     "user_tz": -120
    },
    "id": "MV8QkcmfIAnt",
    "outputId": "080e6b52-8f7c-44b1-e342-4c4d5607c563"
   },
   "outputs": [
    {
     "data": {
      "text/plain": [
       "dict_keys(['key1', 'key2'])"
      ]
     },
     "execution_count": 44,
     "metadata": {},
     "output_type": "execute_result"
    }
   ],
   "source": [
    "d.keys()"
   ]
  },
  {
   "cell_type": "code",
   "execution_count": 45,
   "metadata": {
    "colab": {
     "base_uri": "https://localhost:8080/"
    },
    "executionInfo": {
     "elapsed": 250,
     "status": "ok",
     "timestamp": 1652874472292,
     "user": {
      "displayName": "Andrés Mateo Piñol",
      "userId": "06388070174337757510"
     },
     "user_tz": -120
    },
    "id": "o1kpfOb9Uq0c",
    "outputId": "9c5ed009-b6ba-4da8-e632-0eb729761aec"
   },
   "outputs": [
    {
     "data": {
      "text/plain": [
       "dict_values(['value1', 'value2'])"
      ]
     },
     "execution_count": 45,
     "metadata": {},
     "output_type": "execute_result"
    }
   ],
   "source": [
    "d.values()"
   ]
  },
  {
   "cell_type": "markdown",
   "metadata": {
    "id": "FyfrhH1_VGbC"
   },
   "source": [
    "Podemos también indexar los elementos de un diccionario introduciendo mediante corchetes una *key*, y nos devolverá su *value* asociado:"
   ]
  },
  {
   "cell_type": "code",
   "execution_count": 46,
   "metadata": {
    "colab": {
     "base_uri": "https://localhost:8080/",
     "height": 36
    },
    "executionInfo": {
     "elapsed": 5,
     "status": "ok",
     "timestamp": 1652874473208,
     "user": {
      "displayName": "Andrés Mateo Piñol",
      "userId": "06388070174337757510"
     },
     "user_tz": -120
    },
    "id": "iUjKIUa_IAnt",
    "outputId": "e1e2e614-46d5-4b85-c9d3-389ce0791bde"
   },
   "outputs": [
    {
     "data": {
      "application/vnd.google.colaboratory.intrinsic+json": {
       "type": "string"
      },
      "text/plain": [
       "'value1'"
      ]
     },
     "execution_count": 46,
     "metadata": {},
     "output_type": "execute_result"
    }
   ],
   "source": [
    "d['key1']"
   ]
  },
  {
   "cell_type": "markdown",
   "metadata": {
    "id": "a7Fr6Z_6IAnu"
   },
   "source": [
    "### Booleanos"
   ]
  },
  {
   "cell_type": "markdown",
   "metadata": {
    "id": "WLpFU_tGVZG4"
   },
   "source": [
    "Son las conocidas variables *True* y *False*, mediante las cuales podremos más adelante dar instrucciones a expresiones condicionales:"
   ]
  },
  {
   "cell_type": "code",
   "execution_count": null,
   "metadata": {
    "colab": {
     "base_uri": "https://localhost:8080/"
    },
    "executionInfo": {
     "elapsed": 2058,
     "status": "ok",
     "timestamp": 1613735631029,
     "user": {
      "displayName": "Antonio Zarauz",
      "photoUrl": "https://lh3.googleusercontent.com/a-/AOh14GgtO8nEuu89OGTxFt1-tPpQH0g3g58ZPuU77GYb=s64",
      "userId": "06376112960872681649"
     },
     "user_tz": -60
    },
    "id": "vzkDrK4tIAnu",
    "outputId": "a2e926db-c096-4465-b446-a0dee05ed04b"
   },
   "outputs": [
    {
     "data": {
      "text/plain": [
       "True"
      ]
     },
     "execution_count": 39,
     "metadata": {
      "tags": []
     },
     "output_type": "execute_result"
    }
   ],
   "source": [
    "True"
   ]
  },
  {
   "cell_type": "code",
   "execution_count": null,
   "metadata": {
    "colab": {
     "base_uri": "https://localhost:8080/"
    },
    "executionInfo": {
     "elapsed": 2045,
     "status": "ok",
     "timestamp": 1613735631029,
     "user": {
      "displayName": "Antonio Zarauz",
      "photoUrl": "https://lh3.googleusercontent.com/a-/AOh14GgtO8nEuu89OGTxFt1-tPpQH0g3g58ZPuU77GYb=s64",
      "userId": "06376112960872681649"
     },
     "user_tz": -60
    },
    "id": "QjhtHMGKIAnu",
    "outputId": "247dbe51-609a-4bcb-f329-0eff6c024bd9"
   },
   "outputs": [
    {
     "data": {
      "text/plain": [
       "False"
      ]
     },
     "execution_count": 40,
     "metadata": {
      "tags": []
     },
     "output_type": "execute_result"
    }
   ],
   "source": [
    "False"
   ]
  },
  {
   "cell_type": "markdown",
   "metadata": {
    "id": "6gPY78GwIAnu"
   },
   "source": [
    "### Tuples "
   ]
  },
  {
   "cell_type": "markdown",
   "metadata": {
    "id": "ulePkvynpBTl"
   },
   "source": [
    "Se utilizan para guardar múltiples valores en una única variable, y su orden es fijo."
   ]
  },
  {
   "cell_type": "code",
   "execution_count": null,
   "metadata": {
    "collapsed": true,
    "id": "fLBRGa8lIAnu"
   },
   "outputs": [],
   "source": [
    "t = (1,2,3)"
   ]
  },
  {
   "cell_type": "code",
   "execution_count": null,
   "metadata": {
    "colab": {
     "base_uri": "https://localhost:8080/"
    },
    "executionInfo": {
     "elapsed": 2037,
     "status": "ok",
     "timestamp": 1613735631032,
     "user": {
      "displayName": "Antonio Zarauz",
      "photoUrl": "https://lh3.googleusercontent.com/a-/AOh14GgtO8nEuu89OGTxFt1-tPpQH0g3g58ZPuU77GYb=s64",
      "userId": "06376112960872681649"
     },
     "user_tz": -60
    },
    "id": "Z6wgdFDxIAnu",
    "outputId": "7d6407c3-1f20-4ab7-ee1b-9ef1f7a25fa1"
   },
   "outputs": [
    {
     "data": {
      "text/plain": [
       "1"
      ]
     },
     "execution_count": 42,
     "metadata": {
      "tags": []
     },
     "output_type": "execute_result"
    }
   ],
   "source": [
    "t[0]"
   ]
  },
  {
   "cell_type": "code",
   "execution_count": null,
   "metadata": {
    "id": "_reXb2VFIAnv"
   },
   "outputs": [],
   "source": [
    "t[0] = 'NEW'"
   ]
  },
  {
   "cell_type": "markdown",
   "metadata": {
    "id": "F4VCnL89IAnv"
   },
   "source": [
    "### Sets"
   ]
  },
  {
   "cell_type": "markdown",
   "metadata": {
    "id": "7Quf8MhtpT5f"
   },
   "source": [
    "Se utilizan para guardar múltiples valores en una única variable, y no tienen orden ni indexación, ni admiten duplicados."
   ]
  },
  {
   "cell_type": "code",
   "execution_count": null,
   "metadata": {
    "id": "MA2_hUHjIAnv"
   },
   "outputs": [],
   "source": [
    "{1,2,3}"
   ]
  },
  {
   "cell_type": "code",
   "execution_count": 1,
   "metadata": {
    "colab": {
     "base_uri": "https://localhost:8080/"
    },
    "executionInfo": {
     "elapsed": 734,
     "status": "ok",
     "timestamp": 1652872169951,
     "user": {
      "displayName": "Andrés Mateo Piñol",
      "userId": "06388070174337757510"
     },
     "user_tz": -120
    },
    "id": "sd5odPH5IAnv",
    "outputId": "8830b9f9-34d2-4327-9df6-9850bd7073ce"
   },
   "outputs": [
    {
     "data": {
      "text/plain": [
       "{1, 2, 3}"
      ]
     },
     "execution_count": 1,
     "metadata": {},
     "output_type": "execute_result"
    }
   ],
   "source": [
    "{1,2,3,1,2,1,2,3,3,3,3,2,2,2,1,1,2}\n"
   ]
  },
  {
   "cell_type": "markdown",
   "metadata": {
    "id": "o0Jq9WPxIAnv"
   },
   "source": [
    "## Operadores de comparación"
   ]
  },
  {
   "cell_type": "code",
   "execution_count": null,
   "metadata": {
    "id": "XR2BrfjkIAnw"
   },
   "outputs": [],
   "source": [
    "1 > 2"
   ]
  },
  {
   "cell_type": "code",
   "execution_count": null,
   "metadata": {
    "id": "QFiip40IIAnw"
   },
   "outputs": [],
   "source": [
    "1 < 2"
   ]
  },
  {
   "cell_type": "code",
   "execution_count": null,
   "metadata": {
    "id": "CI4oXQPAIAnw"
   },
   "outputs": [],
   "source": [
    "1 >= 1"
   ]
  },
  {
   "cell_type": "code",
   "execution_count": null,
   "metadata": {
    "id": "4NOnSx5lIAnw"
   },
   "outputs": [],
   "source": [
    "1 <= 4"
   ]
  },
  {
   "cell_type": "code",
   "execution_count": null,
   "metadata": {
    "id": "TFb8bHGrIAnw"
   },
   "outputs": [],
   "source": [
    "1 == 1"
   ]
  },
  {
   "cell_type": "code",
   "execution_count": null,
   "metadata": {
    "id": "UZCV6nJnIAnx"
   },
   "outputs": [],
   "source": [
    "'hi' == 'bye'"
   ]
  },
  {
   "cell_type": "markdown",
   "metadata": {
    "id": "rXb0jGAXIAnx"
   },
   "source": [
    "## Operadores lógicos"
   ]
  },
  {
   "cell_type": "code",
   "execution_count": null,
   "metadata": {
    "id": "GrxVEInJIAnx"
   },
   "outputs": [],
   "source": [
    "(1 > 2) and (2 < 3)"
   ]
  },
  {
   "cell_type": "code",
   "execution_count": null,
   "metadata": {
    "id": "KKj18cRHIAnx"
   },
   "outputs": [],
   "source": [
    "(1 > 2) or (2 < 3)"
   ]
  },
  {
   "cell_type": "code",
   "execution_count": null,
   "metadata": {
    "id": "vcV9trbKIAnx"
   },
   "outputs": [],
   "source": [
    "(1 == 2) or (2 == 3) or (4 == 4)"
   ]
  },
  {
   "cell_type": "markdown",
   "metadata": {
    "id": "feZvqlHlIAny"
   },
   "source": [
    "## Sentencias condicionales"
   ]
  },
  {
   "cell_type": "code",
   "execution_count": null,
   "metadata": {
    "id": "wTSTR7tBIAny"
   },
   "outputs": [],
   "source": [
    "if 1 < 2:\n",
    "    print('Yep!')"
   ]
  },
  {
   "cell_type": "code",
   "execution_count": null,
   "metadata": {
    "id": "dimEyV36IAny"
   },
   "outputs": [],
   "source": [
    "if 1 < 2:\n",
    "    print('yep!')"
   ]
  },
  {
   "cell_type": "code",
   "execution_count": null,
   "metadata": {
    "id": "jJIikgLBIAny"
   },
   "outputs": [],
   "source": [
    "if 1 < 2:\n",
    "    print('first')\n",
    "else:\n",
    "    print('last')"
   ]
  },
  {
   "cell_type": "code",
   "execution_count": null,
   "metadata": {
    "id": "LNTzaYwQIAny"
   },
   "outputs": [],
   "source": [
    "if 1 > 2:\n",
    "    print('first')\n",
    "else:\n",
    "    print('last')"
   ]
  },
  {
   "cell_type": "code",
   "execution_count": null,
   "metadata": {
    "id": "g19o-Zd-IAnz"
   },
   "outputs": [],
   "source": [
    "if 1 == 2:\n",
    "    print('first')\n",
    "elif 3 == 3:\n",
    "    print('middle')\n",
    "else:\n",
    "    print('Last')"
   ]
  },
  {
   "cell_type": "markdown",
   "metadata": {
    "id": "-NxTpQB3IAn1"
   },
   "source": [
    "## Bucles *for*"
   ]
  },
  {
   "cell_type": "code",
   "execution_count": 3,
   "metadata": {
    "executionInfo": {
     "elapsed": 244,
     "status": "ok",
     "timestamp": 1652872271529,
     "user": {
      "displayName": "Andrés Mateo Piñol",
      "userId": "06388070174337757510"
     },
     "user_tz": -120
    },
    "id": "j4GNQPR2IAn1"
   },
   "outputs": [],
   "source": [
    "seq = [1,2,3,4,5]"
   ]
  },
  {
   "cell_type": "code",
   "execution_count": 4,
   "metadata": {
    "colab": {
     "base_uri": "https://localhost:8080/"
    },
    "executionInfo": {
     "elapsed": 245,
     "status": "ok",
     "timestamp": 1652872273102,
     "user": {
      "displayName": "Andrés Mateo Piñol",
      "userId": "06388070174337757510"
     },
     "user_tz": -120
    },
    "id": "B77DDKUQIAn1",
    "outputId": "a6aff612-fe58-421e-eab1-55d9084c2205"
   },
   "outputs": [
    {
     "name": "stdout",
     "output_type": "stream",
     "text": [
      "1\n",
      "2\n",
      "3\n",
      "4\n",
      "5\n"
     ]
    }
   ],
   "source": [
    "for item in seq:\n",
    "    print(item)"
   ]
  },
  {
   "cell_type": "code",
   "execution_count": 5,
   "metadata": {
    "colab": {
     "base_uri": "https://localhost:8080/"
    },
    "executionInfo": {
     "elapsed": 254,
     "status": "ok",
     "timestamp": 1652872280459,
     "user": {
      "displayName": "Andrés Mateo Piñol",
      "userId": "06388070174337757510"
     },
     "user_tz": -120
    },
    "id": "ejrJtXMrIAn1",
    "outputId": "d15d4dd7-a2dc-4316-fca7-bca56bc47412"
   },
   "outputs": [
    {
     "name": "stdout",
     "output_type": "stream",
     "text": [
      "Yep\n",
      "Yep\n",
      "Yep\n",
      "Yep\n",
      "Yep\n"
     ]
    }
   ],
   "source": [
    "for item in seq:\n",
    "    print('Yep')"
   ]
  },
  {
   "cell_type": "code",
   "execution_count": null,
   "metadata": {
    "id": "O60Rq1CtIAn2"
   },
   "outputs": [],
   "source": [
    "for jelly in seq:\n",
    "    print(jelly+jelly)"
   ]
  },
  {
   "cell_type": "markdown",
   "metadata": {
    "id": "OYnLgvS6IAn2"
   },
   "source": [
    "## Bucles *while*"
   ]
  },
  {
   "cell_type": "code",
   "execution_count": 6,
   "metadata": {
    "colab": {
     "base_uri": "https://localhost:8080/"
    },
    "executionInfo": {
     "elapsed": 245,
     "status": "ok",
     "timestamp": 1652872286318,
     "user": {
      "displayName": "Andrés Mateo Piñol",
      "userId": "06388070174337757510"
     },
     "user_tz": -120
    },
    "id": "W9SeaVFrIAn2",
    "outputId": "ee4a6f5e-e75f-4fef-f1cd-12baf8bb0ed2"
   },
   "outputs": [
    {
     "name": "stdout",
     "output_type": "stream",
     "text": [
      "i is: 1\n",
      "i is: 2\n",
      "i is: 3\n",
      "i is: 4\n"
     ]
    }
   ],
   "source": [
    "i = 1\n",
    "while i < 5:\n",
    "    print('i is: {}'.format(i))\n",
    "    i = i+1"
   ]
  },
  {
   "cell_type": "markdown",
   "metadata": {
    "id": "vb44NunUIAn2"
   },
   "source": [
    "## range()"
   ]
  },
  {
   "cell_type": "code",
   "execution_count": 7,
   "metadata": {
    "colab": {
     "base_uri": "https://localhost:8080/"
    },
    "executionInfo": {
     "elapsed": 236,
     "status": "ok",
     "timestamp": 1652872297920,
     "user": {
      "displayName": "Andrés Mateo Piñol",
      "userId": "06388070174337757510"
     },
     "user_tz": -120
    },
    "id": "ShxCpbhQIAn2",
    "outputId": "32592f5f-3e13-4e46-9517-674bbca98a95"
   },
   "outputs": [
    {
     "data": {
      "text/plain": [
       "range(0, 5)"
      ]
     },
     "execution_count": 7,
     "metadata": {},
     "output_type": "execute_result"
    }
   ],
   "source": [
    "range(5)"
   ]
  },
  {
   "cell_type": "code",
   "execution_count": 8,
   "metadata": {
    "colab": {
     "base_uri": "https://localhost:8080/"
    },
    "executionInfo": {
     "elapsed": 221,
     "status": "ok",
     "timestamp": 1652872305713,
     "user": {
      "displayName": "Andrés Mateo Piñol",
      "userId": "06388070174337757510"
     },
     "user_tz": -120
    },
    "id": "cnvvJuPRIAn3",
    "outputId": "f97828db-539c-475e-e653-8467bcd4ea69"
   },
   "outputs": [
    {
     "name": "stdout",
     "output_type": "stream",
     "text": [
      "0\n",
      "1\n",
      "2\n",
      "3\n",
      "4\n"
     ]
    }
   ],
   "source": [
    "for i in range(5):\n",
    "    print(i)"
   ]
  },
  {
   "cell_type": "code",
   "execution_count": 9,
   "metadata": {
    "colab": {
     "base_uri": "https://localhost:8080/"
    },
    "executionInfo": {
     "elapsed": 249,
     "status": "ok",
     "timestamp": 1652872429191,
     "user": {
      "displayName": "Andrés Mateo Piñol",
      "userId": "06388070174337757510"
     },
     "user_tz": -120
    },
    "id": "NzIO38Y2IAn3",
    "outputId": "6037e9bf-9dac-4507-e46c-02d142a42f7e"
   },
   "outputs": [
    {
     "data": {
      "text/plain": [
       "[0, 1, 2, 3, 4]"
      ]
     },
     "execution_count": 9,
     "metadata": {},
     "output_type": "execute_result"
    }
   ],
   "source": [
    "list(range(5))"
   ]
  },
  {
   "cell_type": "markdown",
   "metadata": {
    "id": "1TcByr16IAn3"
   },
   "source": [
    "## Listas de comprensión"
   ]
  },
  {
   "cell_type": "code",
   "execution_count": 10,
   "metadata": {
    "collapsed": true,
    "executionInfo": {
     "elapsed": 252,
     "status": "ok",
     "timestamp": 1652872454421,
     "user": {
      "displayName": "Andrés Mateo Piñol",
      "userId": "06388070174337757510"
     },
     "user_tz": -120
    },
    "id": "DsUohnnGIAn3"
   },
   "outputs": [],
   "source": [
    "x = [1,2,3,4]"
   ]
  },
  {
   "cell_type": "code",
   "execution_count": 11,
   "metadata": {
    "colab": {
     "base_uri": "https://localhost:8080/"
    },
    "executionInfo": {
     "elapsed": 245,
     "status": "ok",
     "timestamp": 1652872457466,
     "user": {
      "displayName": "Andrés Mateo Piñol",
      "userId": "06388070174337757510"
     },
     "user_tz": -120
    },
    "id": "O3luiv8PIAn3",
    "outputId": "8fea5532-bb44-4041-84c3-278bf51dd790"
   },
   "outputs": [
    {
     "name": "stdout",
     "output_type": "stream",
     "text": [
      "[1, 4, 9, 16]\n"
     ]
    }
   ],
   "source": [
    "out = []\n",
    "for item in x:\n",
    "    out.append(item**2)\n",
    "print(out)"
   ]
  },
  {
   "cell_type": "code",
   "execution_count": 12,
   "metadata": {
    "colab": {
     "base_uri": "https://localhost:8080/"
    },
    "executionInfo": {
     "elapsed": 257,
     "status": "ok",
     "timestamp": 1652872541822,
     "user": {
      "displayName": "Andrés Mateo Piñol",
      "userId": "06388070174337757510"
     },
     "user_tz": -120
    },
    "id": "AW7u_lPxIAn3",
    "outputId": "ee41b97c-89b8-465d-c02f-17d410194fbd"
   },
   "outputs": [
    {
     "data": {
      "text/plain": [
       "[1, 4, 9, 16]"
      ]
     },
     "execution_count": 12,
     "metadata": {},
     "output_type": "execute_result"
    }
   ],
   "source": [
    "[item**2 for item in x]"
   ]
  },
  {
   "cell_type": "markdown",
   "metadata": {
    "id": "0ljCGrRNIAn4"
   },
   "source": [
    "## Funciones"
   ]
  },
  {
   "cell_type": "code",
   "execution_count": 13,
   "metadata": {
    "collapsed": true,
    "executionInfo": {
     "elapsed": 371,
     "status": "ok",
     "timestamp": 1652873225946,
     "user": {
      "displayName": "Andrés Mateo Piñol",
      "userId": "06388070174337757510"
     },
     "user_tz": -120
    },
    "id": "_JLFcEFMIAn4"
   },
   "outputs": [],
   "source": [
    "def my_func(param1='default'):\n",
    "    \"\"\"\n",
    "    Docstring goes here.\n",
    "    \"\"\"\n",
    "    print(param1)"
   ]
  },
  {
   "cell_type": "code",
   "execution_count": 14,
   "metadata": {
    "colab": {
     "base_uri": "https://localhost:8080/"
    },
    "executionInfo": {
     "elapsed": 233,
     "status": "ok",
     "timestamp": 1652873230692,
     "user": {
      "displayName": "Andrés Mateo Piñol",
      "userId": "06388070174337757510"
     },
     "user_tz": -120
    },
    "id": "XbR1VcTGIAn4",
    "outputId": "6bf63cc6-8c0c-4f71-e422-712691f7e904"
   },
   "outputs": [
    {
     "data": {
      "text/plain": [
       "<function __main__.my_func>"
      ]
     },
     "execution_count": 14,
     "metadata": {},
     "output_type": "execute_result"
    }
   ],
   "source": [
    "my_func"
   ]
  },
  {
   "cell_type": "code",
   "execution_count": 15,
   "metadata": {
    "colab": {
     "base_uri": "https://localhost:8080/"
    },
    "executionInfo": {
     "elapsed": 247,
     "status": "ok",
     "timestamp": 1652873254634,
     "user": {
      "displayName": "Andrés Mateo Piñol",
      "userId": "06388070174337757510"
     },
     "user_tz": -120
    },
    "id": "JAMR4JqmIAn4",
    "outputId": "cb6709cd-28ed-42e6-d64b-1ae1a442a9d6"
   },
   "outputs": [
    {
     "name": "stdout",
     "output_type": "stream",
     "text": [
      "default\n"
     ]
    }
   ],
   "source": [
    "my_func()"
   ]
  },
  {
   "cell_type": "code",
   "execution_count": 16,
   "metadata": {
    "colab": {
     "base_uri": "https://localhost:8080/"
    },
    "executionInfo": {
     "elapsed": 255,
     "status": "ok",
     "timestamp": 1652873258640,
     "user": {
      "displayName": "Andrés Mateo Piñol",
      "userId": "06388070174337757510"
     },
     "user_tz": -120
    },
    "id": "L1p6UxB6IAn4",
    "outputId": "1b2763fb-e191-4537-ce24-cfc0e10e41cb"
   },
   "outputs": [
    {
     "name": "stdout",
     "output_type": "stream",
     "text": [
      "new param\n"
     ]
    }
   ],
   "source": [
    "my_func('new param')"
   ]
  },
  {
   "cell_type": "code",
   "execution_count": 17,
   "metadata": {
    "colab": {
     "base_uri": "https://localhost:8080/"
    },
    "executionInfo": {
     "elapsed": 270,
     "status": "ok",
     "timestamp": 1652873276400,
     "user": {
      "displayName": "Andrés Mateo Piñol",
      "userId": "06388070174337757510"
     },
     "user_tz": -120
    },
    "id": "SqBFGzNhIAn5",
    "outputId": "86b3d1d7-75c7-4ef6-dacc-b29962b0a46f"
   },
   "outputs": [
    {
     "name": "stdout",
     "output_type": "stream",
     "text": [
      "new param\n"
     ]
    }
   ],
   "source": [
    "my_func(param1='new param')"
   ]
  },
  {
   "cell_type": "code",
   "execution_count": 18,
   "metadata": {
    "collapsed": true,
    "executionInfo": {
     "elapsed": 245,
     "status": "ok",
     "timestamp": 1652873297171,
     "user": {
      "displayName": "Andrés Mateo Piñol",
      "userId": "06388070174337757510"
     },
     "user_tz": -120
    },
    "id": "0P1ytFbMIAn5"
   },
   "outputs": [],
   "source": [
    "def square(x):\n",
    "    return x**2"
   ]
  },
  {
   "cell_type": "code",
   "execution_count": 19,
   "metadata": {
    "collapsed": true,
    "executionInfo": {
     "elapsed": 240,
     "status": "ok",
     "timestamp": 1652873303294,
     "user": {
      "displayName": "Andrés Mateo Piñol",
      "userId": "06388070174337757510"
     },
     "user_tz": -120
    },
    "id": "R-CTRDoBIAn5"
   },
   "outputs": [],
   "source": [
    "out = square(2)"
   ]
  },
  {
   "cell_type": "code",
   "execution_count": 20,
   "metadata": {
    "colab": {
     "base_uri": "https://localhost:8080/"
    },
    "executionInfo": {
     "elapsed": 225,
     "status": "ok",
     "timestamp": 1652873305586,
     "user": {
      "displayName": "Andrés Mateo Piñol",
      "userId": "06388070174337757510"
     },
     "user_tz": -120
    },
    "id": "Bh5ZQ_mxIAn5",
    "outputId": "ae2b8391-a6ab-4bb6-f086-046a556636fd",
    "scrolled": true
   },
   "outputs": [
    {
     "name": "stdout",
     "output_type": "stream",
     "text": [
      "4\n"
     ]
    }
   ],
   "source": [
    "print(out)"
   ]
  },
  {
   "cell_type": "markdown",
   "metadata": {
    "id": "t6l21gdcIAn5"
   },
   "source": [
    "## Expresiones lambda"
   ]
  },
  {
   "cell_type": "markdown",
   "metadata": {
    "id": "0F9ecz3op59l"
   },
   "source": [
    "La versatilidad que tienen las funciones lambda se ve cuando se usan de manera anónima dentro de otra función:"
   ]
  },
  {
   "cell_type": "code",
   "execution_count": 30,
   "metadata": {
    "collapsed": true,
    "executionInfo": {
     "elapsed": 266,
     "status": "ok",
     "timestamp": 1652874244772,
     "user": {
      "displayName": "Andrés Mateo Piñol",
      "userId": "06388070174337757510"
     },
     "user_tz": -120
    },
    "id": "Zx1MWbJRIAn5"
   },
   "outputs": [],
   "source": [
    "def times2(var):\n",
    "    return var*2"
   ]
  },
  {
   "cell_type": "code",
   "execution_count": 22,
   "metadata": {
    "colab": {
     "base_uri": "https://localhost:8080/"
    },
    "executionInfo": {
     "elapsed": 268,
     "status": "ok",
     "timestamp": 1652873631311,
     "user": {
      "displayName": "Andrés Mateo Piñol",
      "userId": "06388070174337757510"
     },
     "user_tz": -120
    },
    "id": "-2VPs6YMIAn6",
    "outputId": "19a8f9c4-1420-456b-c596-9bac818bb235"
   },
   "outputs": [
    {
     "data": {
      "text/plain": [
       "4"
      ]
     },
     "execution_count": 22,
     "metadata": {},
     "output_type": "execute_result"
    }
   ],
   "source": [
    "times2(2)"
   ]
  },
  {
   "cell_type": "code",
   "execution_count": 27,
   "metadata": {
    "colab": {
     "base_uri": "https://localhost:8080/"
    },
    "executionInfo": {
     "elapsed": 3,
     "status": "ok",
     "timestamp": 1652873694240,
     "user": {
      "displayName": "Andrés Mateo Piñol",
      "userId": "06388070174337757510"
     },
     "user_tz": -120
    },
    "id": "Ab_5NqJHIAn6",
    "outputId": "6d464778-d46a-41d5-e7df-36457401aea4"
   },
   "outputs": [
    {
     "data": {
      "text/plain": [
       "<function __main__.<lambda>>"
      ]
     },
     "execution_count": 27,
     "metadata": {},
     "output_type": "execute_result"
    }
   ],
   "source": [
    "lambda var: var*2\n"
   ]
  },
  {
   "cell_type": "markdown",
   "metadata": {
    "id": "LqUucrkTIAn6"
   },
   "source": [
    "## map/filter"
   ]
  },
  {
   "cell_type": "code",
   "execution_count": 31,
   "metadata": {
    "collapsed": true,
    "executionInfo": {
     "elapsed": 240,
     "status": "ok",
     "timestamp": 1652874249467,
     "user": {
      "displayName": "Andrés Mateo Piñol",
      "userId": "06388070174337757510"
     },
     "user_tz": -120
    },
    "id": "rj6dSpiCIAn6"
   },
   "outputs": [],
   "source": [
    "seq = [1,2,3,4,5]"
   ]
  },
  {
   "cell_type": "code",
   "execution_count": 32,
   "metadata": {
    "colab": {
     "base_uri": "https://localhost:8080/"
    },
    "executionInfo": {
     "elapsed": 242,
     "status": "ok",
     "timestamp": 1652874251120,
     "user": {
      "displayName": "Andrés Mateo Piñol",
      "userId": "06388070174337757510"
     },
     "user_tz": -120
    },
    "id": "2D7h1I9LIAn6",
    "outputId": "1e7863b3-b736-47c3-8e97-3d854979088e"
   },
   "outputs": [
    {
     "data": {
      "text/plain": [
       "<map at 0x7f19a912aed0>"
      ]
     },
     "execution_count": 32,
     "metadata": {},
     "output_type": "execute_result"
    }
   ],
   "source": [
    "map(times2,seq)"
   ]
  },
  {
   "cell_type": "code",
   "execution_count": null,
   "metadata": {
    "colab": {
     "base_uri": "https://localhost:8080/"
    },
    "executionInfo": {
     "elapsed": 646,
     "status": "ok",
     "timestamp": 1618391829712,
     "user": {
      "displayName": "Antonio Zarauz",
      "photoUrl": "https://lh3.googleusercontent.com/a-/AOh14GgtO8nEuu89OGTxFt1-tPpQH0g3g58ZPuU77GYb=s64",
      "userId": "06376112960872681649"
     },
     "user_tz": -120
    },
    "id": "1G5MzIL-IAn6",
    "outputId": "c9aa59b2-d45c-4860-e6e1-c6a52736a9e9"
   },
   "outputs": [
    {
     "data": {
      "text/plain": [
       "[2, 4, 6, 8, 10]"
      ]
     },
     "execution_count": 4,
     "metadata": {
      "tags": []
     },
     "output_type": "execute_result"
    }
   ],
   "source": [
    "list(map(times2,seq))"
   ]
  },
  {
   "cell_type": "code",
   "execution_count": null,
   "metadata": {
    "colab": {
     "base_uri": "https://localhost:8080/"
    },
    "executionInfo": {
     "elapsed": 711,
     "status": "ok",
     "timestamp": 1618391833785,
     "user": {
      "displayName": "Antonio Zarauz",
      "photoUrl": "https://lh3.googleusercontent.com/a-/AOh14GgtO8nEuu89OGTxFt1-tPpQH0g3g58ZPuU77GYb=s64",
      "userId": "06376112960872681649"
     },
     "user_tz": -120
    },
    "id": "Ss7u_AkcIAn7",
    "outputId": "1b53ea6a-6764-4b55-8e1a-1b4ee4ce3d42"
   },
   "outputs": [
    {
     "data": {
      "text/plain": [
       "[2, 4, 6, 8, 10]"
      ]
     },
     "execution_count": 5,
     "metadata": {
      "tags": []
     },
     "output_type": "execute_result"
    }
   ],
   "source": [
    "list(map(lambda var: var*2,seq))"
   ]
  },
  {
   "cell_type": "code",
   "execution_count": null,
   "metadata": {
    "colab": {
     "base_uri": "https://localhost:8080/"
    },
    "executionInfo": {
     "elapsed": 617,
     "status": "ok",
     "timestamp": 1618391848647,
     "user": {
      "displayName": "Antonio Zarauz",
      "photoUrl": "https://lh3.googleusercontent.com/a-/AOh14GgtO8nEuu89OGTxFt1-tPpQH0g3g58ZPuU77GYb=s64",
      "userId": "06376112960872681649"
     },
     "user_tz": -120
    },
    "id": "4WR9er6KIAn7",
    "outputId": "df6f6a12-5a45-4ddb-b796-f7aa33e80ac8"
   },
   "outputs": [
    {
     "data": {
      "text/plain": [
       "<filter at 0x7fbd1a3f7210>"
      ]
     },
     "execution_count": 6,
     "metadata": {
      "tags": []
     },
     "output_type": "execute_result"
    }
   ],
   "source": [
    "filter(lambda item: item%2 == 0,seq)"
   ]
  },
  {
   "cell_type": "code",
   "execution_count": null,
   "metadata": {
    "colab": {
     "base_uri": "https://localhost:8080/"
    },
    "executionInfo": {
     "elapsed": 887,
     "status": "ok",
     "timestamp": 1618391851768,
     "user": {
      "displayName": "Antonio Zarauz",
      "photoUrl": "https://lh3.googleusercontent.com/a-/AOh14GgtO8nEuu89OGTxFt1-tPpQH0g3g58ZPuU77GYb=s64",
      "userId": "06376112960872681649"
     },
     "user_tz": -120
    },
    "id": "btm0Ai21IAn7",
    "outputId": "9b6897be-9a34-430c-9c88-8b8495b96c2e"
   },
   "outputs": [
    {
     "data": {
      "text/plain": [
       "[2, 4]"
      ]
     },
     "execution_count": 7,
     "metadata": {
      "tags": []
     },
     "output_type": "execute_result"
    }
   ],
   "source": [
    "list(filter(lambda item: item%2 == 0,seq))"
   ]
  },
  {
   "cell_type": "markdown",
   "metadata": {
    "id": "Ho_mosrLIAn7"
   },
   "source": [
    "## Métodos"
   ]
  },
  {
   "cell_type": "code",
   "execution_count": 33,
   "metadata": {
    "collapsed": true,
    "executionInfo": {
     "elapsed": 236,
     "status": "ok",
     "timestamp": 1652874384759,
     "user": {
      "displayName": "Andrés Mateo Piñol",
      "userId": "06388070174337757510"
     },
     "user_tz": -120
    },
    "id": "BsbfZNwDIAn7"
   },
   "outputs": [],
   "source": [
    "st = 'hello my name is Sam'"
   ]
  },
  {
   "cell_type": "code",
   "execution_count": 34,
   "metadata": {
    "colab": {
     "base_uri": "https://localhost:8080/",
     "height": 36
    },
    "executionInfo": {
     "elapsed": 6,
     "status": "ok",
     "timestamp": 1652874386485,
     "user": {
      "displayName": "Andrés Mateo Piñol",
      "userId": "06388070174337757510"
     },
     "user_tz": -120
    },
    "id": "i908ToeoIAn8",
    "outputId": "c69c8491-660b-4967-be6b-d3609e591a01"
   },
   "outputs": [
    {
     "data": {
      "application/vnd.google.colaboratory.intrinsic+json": {
       "type": "string"
      },
      "text/plain": [
       "'hello my name is sam'"
      ]
     },
     "execution_count": 34,
     "metadata": {},
     "output_type": "execute_result"
    }
   ],
   "source": [
    "st.lower()"
   ]
  },
  {
   "cell_type": "code",
   "execution_count": 35,
   "metadata": {
    "colab": {
     "base_uri": "https://localhost:8080/",
     "height": 36
    },
    "executionInfo": {
     "elapsed": 286,
     "status": "ok",
     "timestamp": 1652874390936,
     "user": {
      "displayName": "Andrés Mateo Piñol",
      "userId": "06388070174337757510"
     },
     "user_tz": -120
    },
    "id": "yLhqtixwIAn8",
    "outputId": "cbd00bfa-7c7d-4b11-b755-4ddd0ec58020"
   },
   "outputs": [
    {
     "data": {
      "application/vnd.google.colaboratory.intrinsic+json": {
       "type": "string"
      },
      "text/plain": [
       "'HELLO MY NAME IS SAM'"
      ]
     },
     "execution_count": 35,
     "metadata": {},
     "output_type": "execute_result"
    }
   ],
   "source": [
    "st.upper()"
   ]
  },
  {
   "cell_type": "code",
   "execution_count": 36,
   "metadata": {
    "colab": {
     "base_uri": "https://localhost:8080/"
    },
    "executionInfo": {
     "elapsed": 271,
     "status": "ok",
     "timestamp": 1652874398399,
     "user": {
      "displayName": "Andrés Mateo Piñol",
      "userId": "06388070174337757510"
     },
     "user_tz": -120
    },
    "id": "L5adKlTuIAn8",
    "outputId": "0b6f69b2-2590-4715-8acc-9aa92850cbdc"
   },
   "outputs": [
    {
     "data": {
      "text/plain": [
       "['hello', 'my', 'name', 'is', 'Sam']"
      ]
     },
     "execution_count": 36,
     "metadata": {},
     "output_type": "execute_result"
    }
   ],
   "source": [
    "st.split()"
   ]
  },
  {
   "cell_type": "code",
   "execution_count": 37,
   "metadata": {
    "collapsed": true,
    "executionInfo": {
     "elapsed": 229,
     "status": "ok",
     "timestamp": 1652874404293,
     "user": {
      "displayName": "Andrés Mateo Piñol",
      "userId": "06388070174337757510"
     },
     "user_tz": -120
    },
    "id": "o-H4SdK5IAn8"
   },
   "outputs": [],
   "source": [
    "tweet = 'Go Sports! #Sports'"
   ]
  },
  {
   "cell_type": "code",
   "execution_count": 38,
   "metadata": {
    "colab": {
     "base_uri": "https://localhost:8080/"
    },
    "executionInfo": {
     "elapsed": 255,
     "status": "ok",
     "timestamp": 1652874411461,
     "user": {
      "displayName": "Andrés Mateo Piñol",
      "userId": "06388070174337757510"
     },
     "user_tz": -120
    },
    "id": "zo4-b_TNIAn8",
    "outputId": "cbc363c5-d602-4cb9-b2c9-657e194c45cd"
   },
   "outputs": [
    {
     "data": {
      "text/plain": [
       "['Go Sports! ', 'Sports']"
      ]
     },
     "execution_count": 38,
     "metadata": {},
     "output_type": "execute_result"
    }
   ],
   "source": [
    "tweet.split('#')"
   ]
  },
  {
   "cell_type": "code",
   "execution_count": 39,
   "metadata": {
    "colab": {
     "base_uri": "https://localhost:8080/",
     "height": 36
    },
    "executionInfo": {
     "elapsed": 252,
     "status": "ok",
     "timestamp": 1652874422116,
     "user": {
      "displayName": "Andrés Mateo Piñol",
      "userId": "06388070174337757510"
     },
     "user_tz": -120
    },
    "id": "9NGMrXgsIAn9",
    "outputId": "1fb7f509-fff4-47c8-9802-ce61bb88bbe2"
   },
   "outputs": [
    {
     "data": {
      "application/vnd.google.colaboratory.intrinsic+json": {
       "type": "string"
      },
      "text/plain": [
       "'Sports'"
      ]
     },
     "execution_count": 39,
     "metadata": {},
     "output_type": "execute_result"
    }
   ],
   "source": [
    "tweet.split('#')[1]"
   ]
  },
  {
   "cell_type": "code",
   "execution_count": 47,
   "metadata": {
    "colab": {
     "base_uri": "https://localhost:8080/"
    },
    "executionInfo": {
     "elapsed": 226,
     "status": "ok",
     "timestamp": 1652874478497,
     "user": {
      "displayName": "Andrés Mateo Piñol",
      "userId": "06388070174337757510"
     },
     "user_tz": -120
    },
    "id": "6zeazsNmIAn9",
    "outputId": "2fe56e18-5828-4907-a3be-2a2a87103e87"
   },
   "outputs": [
    {
     "data": {
      "text/plain": [
       "{'key1': 'value1', 'key2': 'value2'}"
      ]
     },
     "execution_count": 47,
     "metadata": {},
     "output_type": "execute_result"
    }
   ],
   "source": [
    "d"
   ]
  },
  {
   "cell_type": "code",
   "execution_count": 48,
   "metadata": {
    "colab": {
     "base_uri": "https://localhost:8080/"
    },
    "executionInfo": {
     "elapsed": 257,
     "status": "ok",
     "timestamp": 1652874481327,
     "user": {
      "displayName": "Andrés Mateo Piñol",
      "userId": "06388070174337757510"
     },
     "user_tz": -120
    },
    "id": "B_kXJfUEIAn9",
    "outputId": "39a21182-a4a5-4bab-f1f3-5da4919b12c9"
   },
   "outputs": [
    {
     "data": {
      "text/plain": [
       "dict_keys(['key1', 'key2'])"
      ]
     },
     "execution_count": 48,
     "metadata": {},
     "output_type": "execute_result"
    }
   ],
   "source": [
    "d.keys()"
   ]
  },
  {
   "cell_type": "code",
   "execution_count": 49,
   "metadata": {
    "colab": {
     "base_uri": "https://localhost:8080/"
    },
    "executionInfo": {
     "elapsed": 237,
     "status": "ok",
     "timestamp": 1652874483038,
     "user": {
      "displayName": "Andrés Mateo Piñol",
      "userId": "06388070174337757510"
     },
     "user_tz": -120
    },
    "id": "2rFH5jEqIAn9",
    "outputId": "19b8b8a0-93db-49a1-cd2c-d0adb7d40591"
   },
   "outputs": [
    {
     "data": {
      "text/plain": [
       "dict_items([('key1', 'value1'), ('key2', 'value2')])"
      ]
     },
     "execution_count": 49,
     "metadata": {},
     "output_type": "execute_result"
    }
   ],
   "source": [
    "d.items()"
   ]
  },
  {
   "cell_type": "code",
   "execution_count": 50,
   "metadata": {
    "collapsed": true,
    "executionInfo": {
     "elapsed": 233,
     "status": "ok",
     "timestamp": 1652874533441,
     "user": {
      "displayName": "Andrés Mateo Piñol",
      "userId": "06388070174337757510"
     },
     "user_tz": -120
    },
    "id": "vJcKvUarIAn9"
   },
   "outputs": [],
   "source": [
    "lst = [1,2,3]"
   ]
  },
  {
   "cell_type": "code",
   "execution_count": 51,
   "metadata": {
    "colab": {
     "base_uri": "https://localhost:8080/"
    },
    "executionInfo": {
     "elapsed": 254,
     "status": "ok",
     "timestamp": 1652874535549,
     "user": {
      "displayName": "Andrés Mateo Piñol",
      "userId": "06388070174337757510"
     },
     "user_tz": -120
    },
    "id": "lVtmnNWdIAn9",
    "outputId": "bf57a5d4-6a58-4e02-b917-8a0b47da4935"
   },
   "outputs": [
    {
     "data": {
      "text/plain": [
       "3"
      ]
     },
     "execution_count": 51,
     "metadata": {},
     "output_type": "execute_result"
    }
   ],
   "source": [
    "lst.pop()"
   ]
  },
  {
   "cell_type": "code",
   "execution_count": 52,
   "metadata": {
    "colab": {
     "base_uri": "https://localhost:8080/"
    },
    "executionInfo": {
     "elapsed": 261,
     "status": "ok",
     "timestamp": 1652874559004,
     "user": {
      "displayName": "Andrés Mateo Piñol",
      "userId": "06388070174337757510"
     },
     "user_tz": -120
    },
    "id": "GgEW5EDOIAn-",
    "outputId": "a2ce2122-4478-43e4-c96e-4633735af51b"
   },
   "outputs": [
    {
     "data": {
      "text/plain": [
       "[1, 2]"
      ]
     },
     "execution_count": 52,
     "metadata": {},
     "output_type": "execute_result"
    }
   ],
   "source": [
    "lst"
   ]
  },
  {
   "cell_type": "code",
   "execution_count": 53,
   "metadata": {
    "colab": {
     "base_uri": "https://localhost:8080/"
    },
    "executionInfo": {
     "elapsed": 267,
     "status": "ok",
     "timestamp": 1652874562867,
     "user": {
      "displayName": "Andrés Mateo Piñol",
      "userId": "06388070174337757510"
     },
     "user_tz": -120
    },
    "id": "hwqLOIYCIAn-",
    "outputId": "4e97f3ec-6417-4d15-be5d-6de3f8256864"
   },
   "outputs": [
    {
     "data": {
      "text/plain": [
       "False"
      ]
     },
     "execution_count": 53,
     "metadata": {},
     "output_type": "execute_result"
    }
   ],
   "source": [
    "'x' in [1,2,3]"
   ]
  },
  {
   "cell_type": "code",
   "execution_count": 54,
   "metadata": {
    "colab": {
     "base_uri": "https://localhost:8080/"
    },
    "executionInfo": {
     "elapsed": 263,
     "status": "ok",
     "timestamp": 1652874565032,
     "user": {
      "displayName": "Andrés Mateo Piñol",
      "userId": "06388070174337757510"
     },
     "user_tz": -120
    },
    "id": "b8n27oG1IAn-",
    "outputId": "195dd1bc-9c3d-4ad6-c66c-704c1ad349cb"
   },
   "outputs": [
    {
     "data": {
      "text/plain": [
       "True"
      ]
     },
     "execution_count": 54,
     "metadata": {},
     "output_type": "execute_result"
    }
   ],
   "source": [
    "'x' in ['x','y','z']"
   ]
  },
  {
   "cell_type": "markdown",
   "metadata": {
    "id": "tKs_aQlRD6mz"
   },
   "source": [
    "## Clases\n",
    "Las clases son uno de los conceptos más importantes en Python, pues nos permiten mediante una serie de métodos e implementaciones automatizar procesos."
   ]
  },
  {
   "cell_type": "markdown",
   "metadata": {
    "id": "HKQk14qyEK_Q"
   },
   "source": [
    "*  En primer lugar, para crear nuestra clase utilizamos la palabra clave 'class' seguido del nombre de dicha clase. Los métodos se definen utilizando la misma sintaxis que cualquier otra función.\n",
    "```python\n",
    "class MyPrimerMetodo:\n",
    "```\n",
    "\n",
    "*  Posteriormente, será preciso incluir un método particular, llamado `__init__`, que nos permitirá inicializar una serie de parámetros clave a la vez que instanciamos la clase:\n",
    "\n",
    "```python\n",
    "class MyPrimerMetodo:\n",
    "  #Primer método inicializador\n",
    "  def __init__(self, param_1):\n",
    "    self.param_1 = param_1\n",
    "```\n",
    "\n",
    "* Todos los métodos tienen como primer parámetro el identificador `self` que hace referencia al objeto que llamó a dicho método. Dentro de la función diferenciaremos los atributos del objeto utilizando el identificador self seguido de un punto y el nombre del atributo. Separando de esta manera las variables de nuestro objeto con otras variables que utilicemos como apoyo en nuestras funciones. Veamos un ejemplo:\n",
    "\n",
    "```python\n",
    "# declaramos la clase persona\n",
    "class Persona:\n",
    "    # declaramos el método __init__\n",
    "    def __init__(self):\n",
    "        self.nombre=input(\"Ingrese el nombre: \")\n",
    "        self.edad=int(input(\"Ingrese la edad: \"))\n",
    "\n",
    "    # declaramos el método mostrar\n",
    "    def mostrar(self):\n",
    "        print(\"Nombre: \",self.nombre)\n",
    "        print(\"Edad: \",self.edad)\n",
    "```\n",
    "\n",
    "* En este caso, vemos que solicitamos la información como entrada para computar. Esta información también podría pedirse para inicializar la clase."
   ]
  },
  {
   "cell_type": "markdown",
   "metadata": {
    "id": "CZiUm8b4F5nP"
   },
   "source": [
    "### Herencia de clases\n",
    "\n",
    "En Python dos clases además de poder tener una relación de colaboración, también pueden tener una relación de herencia. Por herencia, entendemos que se pueden crear nuevas clases partiendo de otras clases ya existentes, que heredarán todos los atributos y métodos de su clase padre además, de poder añadir los suyos propios.\n",
    "\n",
    "Por ejemplo, si tenemos una clase llamada vehículo, esta sería la clase padre de las clases coche, moto, bicicleta… Cada una de estas subclases tendría los atributos y métodos de su padre vehículo y aparte tendrían sus propios métodos cada uno de ellos. Vamos a verlo con un ejemplo práctico:\n",
    "\n",
    "```python\n",
    "# Declaramos la clase empleado\n",
    "# La clase empleado hereda los atributos y métodos de la clase Persona\n",
    "class Empleado(Persona):\n",
    "    # Declaramos el método __init__\n",
    "    def __init__(self):\n",
    "        # Llamamos al método init de la clase padre\n",
    "        # Utilizamos la funcion super() para hacer referencia al padre\n",
    "        super().__init__()\n",
    "        self.sueldo=float(input(\"Ingrese el sueldo: \"))\n",
    " \n",
    "    # declaramos el metodo mostrar\n",
    "    def mostrar(self):\n",
    "        super().mostrar()\n",
    "        print(\"Sueldo: \",self.sueldo)\n",
    " \n",
    "    # Declaramos el método pagar_impuestos\n",
    "    # Comprobará si el empleado debe pagar o no\n",
    "    def pagar_impuestos(self):\n",
    "        if self.sueldo > 3000:\n",
    "            print(\"El empleado debe pagar impuestos.\")\n",
    "        else:\n",
    "            print(\"El empleado no paga impuestos.\")\n",
    "```\n",
    "\n",
    "Para inicializar esta calse, hacemos:\n",
    "\n",
    "```python\n",
    "employee = Empleado()\n",
    "```\n",
    "\n",
    "A los métodos los llamamos a partir de este:\n",
    "\n",
    "```python\n",
    "employee.mostrar()\n",
    "employee.pagar_impuestos()\n",
    "```"
   ]
  },
  {
   "cell_type": "code",
   "execution_count": 3,
   "metadata": {
    "executionInfo": {
     "elapsed": 2,
     "status": "ok",
     "timestamp": 1652875263731,
     "user": {
      "displayName": "Andrés Mateo Piñol",
      "userId": "06388070174337757510"
     },
     "user_tz": -120
    },
    "id": "iZUsVNxlHLcE"
   },
   "outputs": [
    {
     "name": "stdout",
     "output_type": "stream",
     "text": [
      "Nombre:  Pedro\n",
      "Edad:  43\n",
      "Sueldo:  34000.0\n",
      "El empleado debe pagar impuestos.\n"
     ]
    }
   ],
   "source": [
    "\n",
    "\n",
    "class MyPrimerMetodo:\n",
    "  #Primer método inicializador\n",
    "  def __init__(self, param_1):\n",
    "    self.param_1 = param_1\n",
    "\n",
    "# declaramos la clase persona\n",
    "class Persona:\n",
    "    # declaramos el método __init__\n",
    "    def __init__(self):\n",
    "        self.nombre=input(\"Ingrese el nombre: \")\n",
    "        self.edad=int(input(\"Ingrese la edad: \"))\n",
    "\n",
    "    # declaramos el método mostrar\n",
    "    def mostrar(self):\n",
    "        print(\"Nombre: \",self.nombre)\n",
    "        print(\"Edad: \",self.edad)\n",
    "\n",
    "    # Declaramos la clase empleado\n",
    "# La clase empleado hereda los atributos y métodos de la clase Persona\n",
    "class Empleado(Persona):\n",
    "    # Declaramos el método __init__\n",
    "    def __init__(self):\n",
    "        # Llamamos al método init de la clase padre\n",
    "        # Utilizamos la funcion super() para hacer referencia al padre\n",
    "        super().__init__()\n",
    "        self.sueldo=float(input(\"Ingrese el sueldo: \"))\n",
    " \n",
    "    # declaramos el metodo mostrar\n",
    "    def mostrar(self):\n",
    "        super().mostrar()\n",
    "        print(\"Sueldo: \",self.sueldo)\n",
    " \n",
    "    # Declaramos el método pagar_impuestos\n",
    "    # Comprobará si el empleado debe pagar o no\n",
    "    def pagar_impuestos(self):\n",
    "        if self.sueldo > 3000:\n",
    "            print(\"El empleado debe pagar impuestos.\")\n",
    "        else:\n",
    "            print(\"El empleado no paga impuestos.\")\n",
    "\n",
    "employee = Empleado()\n",
    "\n",
    "employee.mostrar()\n",
    "employee.pagar_impuestos()\n"
   ]
  }
 ],
 "metadata": {
  "colab": {
   "collapsed_sections": [
    "vjWY-nX5IAnm",
    "zyExv0v_IAnn",
    "ARTuMke3IAno",
    "MBzvssLCIAnq",
    "9Fmb_XLIIAnt",
    "a7Fr6Z_6IAnu",
    "6gPY78GwIAnu",
    "F4VCnL89IAnv"
   ],
   "name": "01-Python Crash Course.ipynb",
   "provenance": [],
   "toc_visible": true
  },
  "kernelspec": {
   "display_name": "Python 3",
   "language": "python",
   "name": "python3"
  },
  "language_info": {
   "codemirror_mode": {
    "name": "ipython",
    "version": 3
   },
   "file_extension": ".py",
   "mimetype": "text/x-python",
   "name": "python",
   "nbconvert_exporter": "python",
   "pygments_lexer": "ipython3",
   "version": "3.13.1"
  }
 },
 "nbformat": 4,
 "nbformat_minor": 0
}
