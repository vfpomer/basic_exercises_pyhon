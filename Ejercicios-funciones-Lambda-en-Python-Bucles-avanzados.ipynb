{
 "cells": [
  {
   "cell_type": "markdown",
   "metadata": {
    "id": "HBq7UgX8i0g_"
   },
   "source": [
    "# Ejercicio 1\n",
    "Escriba un programa en Python que genere una función lambda que permita multiplicar dos números."
   ]
  },
  {
   "cell_type": "code",
   "execution_count": 1,
   "metadata": {
    "colab": {
     "base_uri": "https://localhost:8080/"
    },
    "executionInfo": {
     "elapsed": 243,
     "status": "ok",
     "timestamp": 1652682856667,
     "user": {
      "displayName": "Jose Antonio Lagares Rodriguez",
      "userId": "00469018537825658051"
     },
     "user_tz": -120
    },
    "id": "BuS6X_nOkjGu",
    "outputId": "75ce5256-33c6-4b1d-a2c3-cf064f8b3d51"
   },
   "outputs": [
    {
     "name": "stdout",
     "output_type": "stream",
     "text": [
      "15\n"
     ]
    }
   ],
   "source": [
    "multiplicacion = lambda x, y: x * y\n",
    "\n",
    "print(multiplicacion(5, 3))"
   ]
  },
  {
   "cell_type": "markdown",
   "metadata": {
    "id": "F5Y9K7ycnjil"
   },
   "source": [
    "# Ejercicio 2\n",
    "Escriba una función de Python para dar la suma de los números de una lista."
   ]
  },
  {
   "cell_type": "code",
   "execution_count": 3,
   "metadata": {
    "colab": {
     "base_uri": "https://localhost:8080/"
    },
    "executionInfo": {
     "elapsed": 17,
     "status": "ok",
     "timestamp": 1653491456886,
     "user": {
      "displayName": "Mario Cantelar Jiménez",
      "userId": "01450803641083030674"
     },
     "user_tz": -120
    },
    "id": "5ookogOxoWzG",
    "outputId": "96b59d6a-8b28-4df2-d13c-aa7d748f0ca5"
   },
   "outputs": [
    {
     "name": "stdout",
     "output_type": "stream",
     "text": [
      "15\n"
     ]
    }
   ],
   "source": [
    "lista = [1, 2, 3, 4, 5]\n",
    "\n",
    "def suma(lista):\n",
    "    return sum(lista)\n",
    "\n",
    "print(suma(lista))"
   ]
  },
  {
   "cell_type": "markdown",
   "metadata": {
    "id": "xuLl129pw6vE"
   },
   "source": [
    "# Ejercicio 3\n",
    "\n",
    "Dada una lista y un número, cree una función que devuelva dos parámetros:\n",
    "\n",
    "1) Si está dicho número en esa lista. En dicho caso Devolverá `TRUE`. En caso contrario, `False`.\n",
    "\n",
    "2) Si la longitud de la lista coincide con dicho número. En dicho caso devolverá `TRUE`. En caso contrario, `False`."
   ]
  },
  {
   "cell_type": "code",
   "execution_count": 5,
   "metadata": {
    "colab": {
     "base_uri": "https://localhost:8080/"
    },
    "executionInfo": {
     "elapsed": 240,
     "status": "ok",
     "timestamp": 1652687607216,
     "user": {
      "displayName": "Jose Antonio Lagares Rodriguez",
      "userId": "00469018537825658051"
     },
     "user_tz": -120
    },
    "id": "wfYiL5zFxepD",
    "outputId": "b39bf68b-0a2c-4ae7-f018-0e73c4865055"
   },
   "outputs": [
    {
     "name": "stdout",
     "output_type": "stream",
     "text": [
      "¿Está en la lista?: True\n",
      "¿Coincide con la longitud?: False\n"
     ]
    }
   ],
   "source": [
    "lista_num = [1, 2, 3, 4, 5]\n",
    "num = 3\n",
    "\n",
    "def comprobar_numero(num, lista):\n",
    "    esta_en_lista = num in lista\n",
    "    coincide_con_longitud = num == len(lista)\n",
    "    return esta_en_lista, coincide_con_longitud\n",
    "    \n",
    "resultado = comprobar_numero(num, lista_num)\n",
    "print(\"¿Está en la lista?:\", resultado[0])\n",
    "print(\"¿Coincide con la longitud?:\", resultado[1])"
   ]
  },
  {
   "cell_type": "markdown",
   "metadata": {
    "id": "4N9cJUzc3Ahq"
   },
   "source": [
    "# Ejercicio 4\n",
    "\n",
    "Dada una lista, cree dos funciones, una que devuelva el mayor número y otra que devuelva en menor número.\n",
    "\n"
   ]
  },
  {
   "cell_type": "code",
   "execution_count": 6,
   "metadata": {
    "id": "d1ETZTP03OAn"
   },
   "outputs": [
    {
     "name": "stdout",
     "output_type": "stream",
     "text": [
      "Máximo: 40\n",
      "Mínimo: 1\n"
     ]
    }
   ],
   "source": [
    "lista = [1, 25, 3, 40, 5]\n",
    "\n",
    "def maximo(lista):\n",
    "    return max(lista)   \n",
    "\n",
    "def minimo(lista):\n",
    "    return min(lista)\n",
    "\n",
    "print(\"Máximo:\", maximo(lista))\n",
    "print(\"Mínimo:\", minimo(lista))"
   ]
  }
 ],
 "metadata": {
  "colab": {
   "name": "[Ejercicios]Funciones Lambda en Python + Bucles avanzados.ipynb.ipynb",
   "provenance": []
  },
  "kernelspec": {
   "display_name": "Python 3",
   "name": "python3"
  },
  "language_info": {
   "codemirror_mode": {
    "name": "ipython",
    "version": 3
   },
   "file_extension": ".py",
   "mimetype": "text/x-python",
   "name": "python",
   "nbconvert_exporter": "python",
   "pygments_lexer": "ipython3",
   "version": "3.13.1"
  }
 },
 "nbformat": 4,
 "nbformat_minor": 0
}
