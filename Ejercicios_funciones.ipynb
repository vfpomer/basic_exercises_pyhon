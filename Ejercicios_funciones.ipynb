{
 "cells": [
  {
   "cell_type": "markdown",
   "id": "ed60ac6f",
   "metadata": {},
   "source": [
    "\n",
    "Ejercicio 1¶\n",
    "\n",
    "Escriba un programa en Python que genere una función lambda que permita multiplicar dos números."
   ]
  },
  {
   "cell_type": "code",
   "execution_count": 1,
   "id": "73e4848a",
   "metadata": {},
   "outputs": [
    {
     "name": "stdout",
     "output_type": "stream",
     "text": [
      "El resultado de 6 * 8 es: 48\n"
     ]
    }
   ],
   "source": [
    "multiplicar = lambda x, y: x * y\n",
    "x = 6\n",
    "y = 8\n",
    "\n",
    "print(f'El resultado de {x} * {y} es: {multiplicar(x, y)}')"
   ]
  },
  {
   "cell_type": "markdown",
   "id": "7fc9e16d",
   "metadata": {},
   "source": [
    "\n",
    "Ejercicio 2¶\n",
    "\n",
    "Escriba una función de Python para dar la suma de los números de una lista."
   ]
  },
  {
   "cell_type": "code",
   "execution_count": 3,
   "id": "b7368ce9",
   "metadata": {},
   "outputs": [
    {
     "name": "stdout",
     "output_type": "stream",
     "text": [
      "La suma de la lista es: 55\n"
     ]
    }
   ],
   "source": [
    "lista = [1, 2, 3, 4, 5, 6, 7, 8, 9, 10]\n",
    "\n",
    "def sumar(lista):\n",
    "    return sum(lista)\n",
    "\n",
    "print(f'La suma de la lista es: {sumar(lista)}')\n"
   ]
  },
  {
   "cell_type": "markdown",
   "id": "8dbcdfaf",
   "metadata": {},
   "source": [
    "\n",
    "Ejercicio 3¶\n",
    "\n",
    "Dada una lista y un número, cree una función que devuelva dos parámetros:\n",
    "\n",
    "    Si está dicho número en esa lista. En dicho caso Devolverá TRUE. En caso contrario, False.\n",
    "\n",
    "    Si la longitud de la lista coincide con dicho número. En dicho caso devolverá TRUE. En caso contrario, False.\n"
   ]
  },
  {
   "cell_type": "code",
   "execution_count": 6,
   "id": "501970ed",
   "metadata": {},
   "outputs": [
    {
     "name": "stdout",
     "output_type": "stream",
     "text": [
      "True\n",
      "El número 6 está en la lista [1, 4, 6, 8]\n"
     ]
    }
   ],
   "source": [
    "lista_num = [1, 4, 6, 8]\n",
    "num = 6\n",
    "\n",
    "def is_num_in_list(num, lista_num):\n",
    "    return num in lista_num\n",
    "\n",
    "print(is_num_in_list(num, lista_num))\n",
    "\n",
    "print(f'El número {num} {\"está\" if is_num_in_list(num, lista_num) else \"no está\"} en la lista {lista_num}')"
   ]
  },
  {
   "cell_type": "markdown",
   "id": "e0cf6402",
   "metadata": {},
   "source": [
    "\n",
    "Ejercicio 4¶\n",
    "\n",
    "Dada una lista, cree dos funciones, una que devuelva el mayor número y otra que devuelva en menor número."
   ]
  },
  {
   "cell_type": "code",
   "execution_count": 7,
   "id": "c9b81f4b",
   "metadata": {},
   "outputs": [
    {
     "name": "stdout",
     "output_type": "stream",
     "text": [
      "El número mayor de la lista es: 90\n",
      "El número menor de la lista es: 4\n"
     ]
    }
   ],
   "source": [
    "lista_numeros = [4, 7, 80,45, 23, 56, 78, 90, 12, 34]\n",
    "\n",
    "def mayor(lista_numeros):\n",
    "    return max(lista_numeros)   \n",
    "\n",
    "def menor(lista_numeros):\n",
    "    return min(lista_numeros)\n",
    "\n",
    "print(f'El número mayor de la lista es: {mayor(lista_numeros)}')\n",
    "print(f'El número menor de la lista es: {menor(lista_numeros)}')"
   ]
  },
  {
   "cell_type": "markdown",
   "id": "b56398bb",
   "metadata": {},
   "source": [
    "Ejercicio 5¶\n",
    "\n",
    "Use la funcion sorted para ordenar una lista de números en orden ascendente y también descendente.\n",
    "\n",
    "[5, 9, 12.3, 22, 76, 100]\n",
    "[100, 76, 22, 12.3, 9, 5]\n"
   ]
  },
  {
   "cell_type": "code",
   "execution_count": 9,
   "id": "1d0e0fff",
   "metadata": {},
   "outputs": [
    {
     "name": "stdout",
     "output_type": "stream",
     "text": [
      "La lista ordenada es: [1, 5, 10, 20, 30, 40, 50, 60, 70, 80]\n",
      "La lista ordenada de forma descendente es: [80, 70, 60, 50, 40, 30, 20, 10, 5, 1]\n"
     ]
    }
   ],
   "source": [
    "numeros = [5, 1, 50, 10, 20, 30, 40, 60, 70, 80]\n",
    "\n",
    "def ordenar_lista(numeros):\n",
    "    return sorted(numeros)\n",
    "\n",
    "def ordenar_lista_desc(numeros):\n",
    "    return sorted(numeros, reverse=True)\n",
    "\n",
    "print(f'La lista ordenada es: {ordenar_lista(numeros)}')\n",
    "print(f'La lista ordenada de forma descendente es: {ordenar_lista_desc(numeros)}')"
   ]
  },
  {
   "cell_type": "markdown",
   "id": "694b9bfb",
   "metadata": {},
   "source": [
    "\n",
    "Ejercicio 6¶\n",
    "\n",
    "Dada una lista de palabras que defina y una palabra introducida por el usuario, analice si dicha palabra está en la lista.\n",
    "\n",
    "En el caso de que la encuentre deberá avisar. Si no está, deberá añadirla a la lista.\n",
    "\n",
    "Use lista_apalabras.append(palabra) para añadir una palabra a la lista.\n"
   ]
  },
  {
   "cell_type": "code",
   "execution_count": 11,
   "id": "8d9644dd",
   "metadata": {},
   "outputs": [
    {
     "name": "stdout",
     "output_type": "stream",
     "text": [
      "La palabra \"melon\" no está en la lista, se ha añadido.\n",
      "La lista actualizada es: ['hola', 'mundo', 'python', 'programacion', 'melon']\n"
     ]
    }
   ],
   "source": [
    "lista_palabras = ['hola', 'mundo', 'python', 'programacion']\n",
    "\n",
    "palabra = input('Introduce una palabra: ').strip()\n",
    "while palabra == '':\n",
    "    print('La palabra no es válida.')\n",
    "    palabra = input('Introduce una palabra: ').strip()\n",
    "\n",
    "def comprobar_palabra(palabra, lista_palabras):\n",
    "    if palabra in lista_palabras:\n",
    "        print(f'La palabra \"{palabra}\" está en la lista')\n",
    "    else:\n",
    "        lista_palabras.append(palabra)\n",
    "        print(f'La palabra \"{palabra}\" no está en la lista, se ha añadido.')\n",
    "\n",
    "comprobar_palabra(palabra, lista_palabras)\n",
    "print(f'La lista actualizada es: {lista_palabras}') \n",
    "\n"
   ]
  },
  {
   "cell_type": "markdown",
   "id": "b9a860af",
   "metadata": {},
   "source": [
    "\n",
    "Ejercicio 7¶\n",
    "\n",
    "Cree una función para contar la cantidad de números negativos de una lista."
   ]
  },
  {
   "cell_type": "code",
   "execution_count": 12,
   "id": "98093f93",
   "metadata": {},
   "outputs": [
    {
     "name": "stdout",
     "output_type": "stream",
     "text": [
      "La cantidad de números negativos en la lista es: 4\n"
     ]
    }
   ],
   "source": [
    "lista_numbers = [4, -7, 80, -45, 23, -56, 78, 90, -12, 34]\n",
    "\n",
    "def contar_negativos(lista_numbers):\n",
    "    return len([num for num in lista_numbers if num < 0])\n",
    "\n",
    "print(f'La cantidad de números negativos en la lista es: {contar_negativos(lista_numbers)}')"
   ]
  },
  {
   "cell_type": "markdown",
   "id": "32fa8858",
   "metadata": {},
   "source": [
    "\n",
    "Ejercicio 8¶\n",
    "\n",
    "Cree una función para contar la cantidad de números impares de una lista.\n"
   ]
  },
  {
   "cell_type": "code",
   "execution_count": 13,
   "id": "07dd2121",
   "metadata": {},
   "outputs": [
    {
     "name": "stdout",
     "output_type": "stream",
     "text": [
      "La cantidad de números impares en la lista es: 3\n"
     ]
    }
   ],
   "source": [
    "lista_numeros = [4, 7, 80, 45, 23, 56, 78, 90, 12, 34]\n",
    "\n",
    "def contar_impares(lista_numeros):\n",
    "    return len([num for num in lista_numeros if num % 2 != 0])\n",
    "\n",
    "print(f'La cantidad de números impares en la lista es: {contar_impares(lista_numeros)}')"
   ]
  },
  {
   "cell_type": "markdown",
   "id": "1316c1f7",
   "metadata": {},
   "source": [
    "\n",
    "Ejercicio 9¶\n",
    "\n",
    "Dada una palabra, cuente el número de vocales que tiene.\n"
   ]
  },
  {
   "cell_type": "code",
   "execution_count": 14,
   "id": "03e1e210",
   "metadata": {},
   "outputs": [
    {
     "name": "stdout",
     "output_type": "stream",
     "text": [
      "La cantidad de vocales en la palabra \"palabra\" es: 3\n"
     ]
    }
   ],
   "source": [
    "palabra = input('Introduce una palabra: ').strip().lower()\n",
    "while palabra == '':\n",
    "    print('La palabra no es válida.')\n",
    "    palabra = input('Introduce una palabra: ').strip().lower()\n",
    "\n",
    "def contar_vocales(palabra):\n",
    "    return sum(1 for letra in palabra if letra.lower() in 'aeiou')\n",
    "\n",
    "print(f'La cantidad de vocales en la palabra \"{palabra}\" es: {contar_vocales(palabra)}')"
   ]
  },
  {
   "cell_type": "markdown",
   "id": "ed81e83a",
   "metadata": {},
   "source": [
    "Ejercicio 10¶\n",
    "\n",
    "Imprima el abecedario al revés.\n",
    "\n",
    "Puede ayudarse de reversed.\n"
   ]
  },
  {
   "cell_type": "code",
   "execution_count": 20,
   "id": "1ad3ebc3",
   "metadata": {},
   "outputs": [
    {
     "name": "stdout",
     "output_type": "stream",
     "text": [
      "El abecedario al revés es: zyxwvutsrqponmlkjihgfedcba\n"
     ]
    }
   ],
   "source": [
    "abecedario = 'abcdefghijklmnopqrstuvwxyz'\n",
    "\n",
    "def imprimir_abecedario(abecedario):\n",
    "    for letra in abecedario:\n",
    "        print(letra, end=' ')\n",
    "print(f'El abecedario al revés es: {abecedario[::-1]}')"
   ]
  },
  {
   "cell_type": "markdown",
   "id": "2be04e87",
   "metadata": {},
   "source": [
    "\n",
    "Ejercicio 11¶\n",
    "\n",
    "Dado este diccionario concatenado\n",
    "\n",
    "d = {'k1':[1,2,3,{'tricky':['oh','man','inception',{'target':[1,2,3,'hello']}]}]}\n",
    "\n",
    "obtenga el string 'hello'"
   ]
  },
  {
   "cell_type": "code",
   "execution_count": 21,
   "id": "fb0b9668",
   "metadata": {},
   "outputs": [
    {
     "name": "stdout",
     "output_type": "stream",
     "text": [
      "hello\n"
     ]
    }
   ],
   "source": [
    "d = {'k1':[1,2,3,{'tricky':['oh','man','inception',{'target':[1,2,3,'hello']}]}]}\n",
    "\n",
    "print(d['k1'][3]['tricky'][3]['target'][3])"
   ]
  },
  {
   "cell_type": "markdown",
   "id": "d95420bf",
   "metadata": {},
   "source": [
    "\n",
    "Ejercicio de ampliación 1¶\n",
    "\n",
    "Modifique el programa de la contraseña para dar al usuario solo 3 intentos. Si pasados dichos intentos el usuario no ha escrito bien la contraseña el programa acabará.\n"
   ]
  },
  {
   "cell_type": "code",
   "execution_count": null,
   "id": "449c5e9f",
   "metadata": {},
   "outputs": [],
   "source": []
  },
  {
   "cell_type": "markdown",
   "id": "3057bdcf",
   "metadata": {},
   "source": [
    "Ejercicio de ampliación 2¶\n",
    "\n",
    "Dada una matrix\n",
    "\n",
    "1 2\n",
    "\n",
    "3 4\n",
    "\n",
    "5 6\n",
    "\n",
    "7 8\n",
    "\n",
    "matrix = [[1, 2], [3, 4], [5, 6], [7, 8]]\n",
    "\n",
    "Se pide (de forma independiente por cada apartado):\n",
    "\n",
    "1) Pida un número por consola al usuario usando el siguiente comando:\n",
    "\n",
    "numero = input(\"Por favor ingrese un número: \")\n",
    "\n",
    "2) Controle que el número esté entre 1 y 9. Muestre un mensaje de error en caso de no complir dicha condición. El programa no debe continuar (no use break para realizar esta cuestión).\n",
    "\n",
    "3) Encuentre aquellos factores superiores a dicho número. Para localizar un elemento de la matrix puede usar:\n",
    "\n",
    "elemento = matrix[fila][columna]\n",
    "\n",
    "Pista: Use bucles aninados, range y len.\n",
    "\n",
    "4) Devuelva su matrix traspuesta. Matriz traspuesta\n",
    "\n",
    "Extra) puede controlar si un usuario introduce otro valor (letra, símbolo u otro caracter) usando isdigit, is_numeric o is_decimal. ¿Cuál vendría mejor?\n",
    "\n",
    "En todo momento trate de usar listas de comprensión, siempre que le sea posible.\n",
    "\n",
    "Por favor ingrese un número: 5\n",
    "[6, 7, 8]\n",
    "Matrix traspuesta\n",
    "[[1, 3, 5, 7], [2, 4, 6, 8]]\n",
    "Matrix traspuesta\n",
    "[[1, 3, 5, 7], [2, 4, 6, 8]]\n",
    "\n"
   ]
  },
  {
   "cell_type": "code",
   "execution_count": null,
   "id": "716364c0",
   "metadata": {},
   "outputs": [
    {
     "name": "stdout",
     "output_type": "stream",
     "text": [
      "Número ingresado: 5\n",
      "Factores superiores a 5 en la matriz:\n",
      "El número 1 no es un factor superior a 5\n",
      "El número 2 no es un factor superior a 5\n",
      "El número 3 no es un factor superior a 5\n",
      "El número 4 no es un factor superior a 5\n",
      "El número 5 no es un factor superior a 5\n",
      "El número 6 no es un factor superior a 5\n",
      "El número 7 no es un factor superior a 5\n",
      "El número 8 no es un factor superior a 5\n"
     ]
    }
   ],
   "source": [
    "matrix = [[1, 2], [3, 4], [5, 6], [7, 8]]\n",
    "\n",
    "#1\n",
    "numero = int(input(\"Por favor ingrese un número: \"))\n",
    "\n",
    "#2\n",
    "while numero < 1 or numero > 9:\n",
    "    print(\"El número no es válido\")\n",
    "    numero = int(input(\"Por favor ingrese un número: \"))\n",
    "\n",
    "print(f\"Número ingresado: {numero}\")\n",
    "#3\n",
    "print(f'Factores superiores a {numero} en la matriz:')\n",
    "for fila in matrix:\n",
    "    for elemento in fila:\n",
    "        if elemento % numero == 0 and elemento > numero:\n",
    "            print(elemento)\n",
    "        else:\n",
    "            print(f'El número {elemento} no es un factor superior a {numero}')\n",
    "#4\n",
    "\n",
    "#extra\n"
   ]
  }
 ],
 "metadata": {
  "kernelspec": {
   "display_name": "Python 3",
   "language": "python",
   "name": "python3"
  },
  "language_info": {
   "codemirror_mode": {
    "name": "ipython",
    "version": 3
   },
   "file_extension": ".py",
   "mimetype": "text/x-python",
   "name": "python",
   "nbconvert_exporter": "python",
   "pygments_lexer": "ipython3",
   "version": "3.13.1"
  }
 },
 "nbformat": 4,
 "nbformat_minor": 5
}
