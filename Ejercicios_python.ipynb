{
 "cells": [
  {
   "cell_type": "markdown",
   "id": "4c6b58ee",
   "metadata": {},
   "source": [
    "## Miscelánea¶"
   ]
  },
  {
   "cell_type": "markdown",
   "id": "0050bebc",
   "metadata": {},
   "source": [
    "#### Calcule 7 elevado a 4"
   ]
  },
  {
   "cell_type": "code",
   "execution_count": 1,
   "id": "1264aa56",
   "metadata": {},
   "outputs": [
    {
     "name": "stdout",
     "output_type": "stream",
     "text": [
      "2401\n"
     ]
    }
   ],
   "source": [
    "result = 7 ** 4\n",
    "print(result)"
   ]
  },
  {
   "cell_type": "markdown",
   "id": "e6ec280f",
   "metadata": {},
   "source": [
    "#### Divida el siguiente string en una lista"
   ]
  },
  {
   "cell_type": "code",
   "execution_count": 3,
   "id": "22200cf4",
   "metadata": {},
   "outputs": [
    {
     "name": "stdout",
     "output_type": "stream",
     "text": [
      "['Hi', 'there,', 'Sam!']\n"
     ]
    }
   ],
   "source": [
    "s = 'Hi there, Sam!'\n",
    "lista = s.split()\n",
    "print(lista)"
   ]
  },
  {
   "cell_type": "markdown",
   "id": "1e047a4f",
   "metadata": {},
   "source": [
    "* Dadas las variables \n",
    "* planet = \"Earth\" \n",
    "* diameter = 12742\n",
    "* use el método .format() para imprimir el siguiente string:\n",
    "* The diameter of Earth is 12742 kilometers.'"
   ]
  },
  {
   "cell_type": "code",
   "execution_count": 4,
   "id": "64db6678",
   "metadata": {},
   "outputs": [
    {
     "name": "stdout",
     "output_type": "stream",
     "text": [
      "The diameter of Earth is 12742 kilometers.\n"
     ]
    }
   ],
   "source": [
    "planet = 'Earth'\n",
    "diameter = '12742'\n",
    "print('The diameter of {} is {} kilometers.'.format(planet, diameter))"
   ]
  },
  {
   "cell_type": "markdown",
   "id": "62433388",
   "metadata": {},
   "source": [
    "#### Dada la siguiente lista concatenada, obtenga de la misma el string 'hello':"
   ]
  },
  {
   "cell_type": "code",
   "execution_count": 7,
   "id": "75082f6d",
   "metadata": {},
   "outputs": [
    {
     "name": "stdout",
     "output_type": "stream",
     "text": [
      "hello\n"
     ]
    }
   ],
   "source": [
    "lst = [1,2,[3,4],[5,[100,200,['hello']],23,11],1,7]\n",
    "world = lst[3][1][2][0]\n",
    "print(world)"
   ]
  },
  {
   "cell_type": "markdown",
   "id": "621e944e",
   "metadata": {},
   "source": [
    "Dado este diccionario concatenado\n",
    "d = {'k1':[1,2,3,{'tricky':['oh','man','inception',{'target':[1,2,3,'hello']}]}]}\n",
    "obtenga el string 'hello':"
   ]
  },
  {
   "cell_type": "code",
   "execution_count": 10,
   "id": "ce7afdbf",
   "metadata": {},
   "outputs": [
    {
     "name": "stdout",
     "output_type": "stream",
     "text": [
      "hello\n"
     ]
    }
   ],
   "source": [
    "d = {'k1':[1,2,3,{'tricky':['oh','man','inception',{'target':[1,2,3,'hello']}]}]}\n",
    "world = d['k1'][3]['tricky'][3]['target'][3]\n",
    "print(world)"
   ]
  },
  {
   "cell_type": "markdown",
   "id": "a6f74015",
   "metadata": {},
   "source": [
    "#### Implemente una función llamada domainGet que obtenga el dominio del email de un usuario. Por ejemplo, para el correo \"user@domain.com\". se desprendería 'domain.com'. Compruebe el resultado con este propio email. 'domain.com'"
   ]
  },
  {
   "cell_type": "code",
   "execution_count": 11,
   "id": "b2a02260",
   "metadata": {},
   "outputs": [
    {
     "data": {
      "text/plain": [
       "'domain.com'"
      ]
     },
     "execution_count": 11,
     "metadata": {},
     "output_type": "execute_result"
    }
   ],
   "source": [
    "def domainGet(email):\n",
    "    return email.split('@')[1]\n",
    "\n",
    "domainGet('user@domain.com')"
   ]
  },
  {
   "cell_type": "markdown",
   "id": "7e12cf89",
   "metadata": {},
   "source": [
    "#### Implemente una función llamada findDog, que tenga como entrada un string, que devuelva el valor True si ese string contiene la palabra 'dog'. Tenga en cuenta las posibles mayúsculas, y compruebe su función con el string 'Is there a dog here?'. \n",
    "##### True"
   ]
  },
  {
   "cell_type": "code",
   "execution_count": 19,
   "id": "72b330ad",
   "metadata": {},
   "outputs": [
    {
     "name": "stdout",
     "output_type": "stream",
     "text": [
      "True\n"
     ]
    }
   ],
   "source": [
    "def findDog(text):\n",
    "    return 'dog' in text.lower()\n",
    "    \n",
    "print(findDog('Is there a dog here?'))"
   ]
  },
  {
   "cell_type": "markdown",
   "id": "dc40e12d",
   "metadata": {},
   "source": [
    "#### Implemente una función similar a la del ejercicio anterior, pero que esta vez cuente el número de apariciones del string 'dog' en un cierto input. Compruebe sus resultados con el string:\n",
    "'This dog runs faster than the other dog dude!'"
   ]
  },
  {
   "cell_type": "code",
   "execution_count": 17,
   "id": "d374b59e",
   "metadata": {},
   "outputs": [
    {
     "name": "stdout",
     "output_type": "stream",
     "text": [
      "2\n"
     ]
    }
   ],
   "source": [
    "def countDog(text):\n",
    "    return text.lower().count('dog')\n",
    "print(countDog('This dog runs faster than the other dog dude!'))"
   ]
  },
  {
   "cell_type": "markdown",
   "id": "dd04c7f4",
   "metadata": {},
   "source": [
    "Use funciones lambda y la función .filter() para filtrar palabras de una lista que no empiecen con la letra 's'. Por ejemplo,\n",
    "\n",
    "seq = ['soup','dog','salad','cat','great']\n",
    "debería ser filtrado para obtener:\n",
    "seq = ['soup','salad']\n",
    "\n",
    "['soup', 'salad']\n",
    "\n"
   ]
  },
  {
   "cell_type": "code",
   "execution_count": 20,
   "id": "ceeaab02",
   "metadata": {},
   "outputs": [
    {
     "name": "stdout",
     "output_type": "stream",
     "text": [
      "['soup', 'salad']\n"
     ]
    }
   ],
   "source": [
    "seq = ['soup','dog','salad','cat','great']\n",
    "start_s = list(filter(lambda x: x[0] == 's', seq))\n",
    "print(start_s)"
   ]
  },
  {
   "cell_type": "markdown",
   "id": "ec63a2e6",
   "metadata": {},
   "source": [
    "## Métodos (I)¶"
   ]
  },
  {
   "cell_type": "markdown",
   "id": "b9a2171b",
   "metadata": {},
   "source": [
    "Un conductor va a una velocidad demasiado rápida, y un agente le detiene. Escribe una función con tres posibles resultados, no ticket, small ticket o big ticket, y que devuelva lo siguiente:\n",
    "\n",
    "    Si la velocidad es de 60 o menos, el resultado debe ser no ticket.\n",
    "    Si la velocidad está entre 61 y 80 (inclusive), el resultado debe ser small ticket.\n",
    "    Si la velocidad es superior a 80, el resultado debe ser big ticket.\n",
    "    Si es tu cumpleaños, puedes ir a la velocidad que quieras.\n"
   ]
  },
  {
   "cell_type": "code",
   "execution_count": 5,
   "id": "bf627252",
   "metadata": {},
   "outputs": [
    {
     "name": "stdout",
     "output_type": "stream",
     "text": [
      "Small ticket\n"
     ]
    }
   ],
   "source": [
    "from datetime import date, datetime\n",
    "\n",
    "velocidad = int(input('¿A qué velocidad va el coche? '))\n",
    "\n",
    "# Convertimos la entrada del usuario a un objeto de tipo date\n",
    "cumple_input = input('¿Cuándo es tu cumpleaños? (dd/mm/aaaa) ')\n",
    "cumple = datetime.strptime(cumple_input, \"%d/%m/%Y\").date()\n",
    "\n",
    "def multa(velocidad, cumple):\n",
    "    if cumple == date.today():\n",
    "        print('¡Felicidades! Puedes ir como quieras')\n",
    "    else:\n",
    "        if velocidad < 60:\n",
    "            print('No tiene multa')\n",
    "        elif velocidad < 80:\n",
    "            print('Small ticket')\n",
    "        else:\n",
    "            print('Big ticket')\n",
    "\n",
    "multa(velocidad, cumple)\n",
    "\n",
    "\n"
   ]
  },
  {
   "cell_type": "markdown",
   "id": "767ddce3",
   "metadata": {},
   "source": [
    "## Clases (I)¶"
   ]
  },
  {
   "cell_type": "markdown",
   "id": "07ed3d39",
   "metadata": {},
   "source": [
    "Realizar un programa que conste de una clase llamada Alumno que tenga como atributos el nombre y la(s) nota(s) del alumno en una lista. Definir los métodos para inicializar sus atributos, imprimirlos y mostrar un mensaje con el resultado de la nota y si ha aprobado o no.\n",
    "\n",
    "Indicaciones: Para inicializar la clase, directamente podemos introducir la media de las notas:\n",
    "\n",
    "# inicializamos la clase\n",
    "class Alumno:\n",
    "    # inicializamos los atributos\n",
    "    def __init__(self,nombre,notas):\n",
    "        self.nombre=nombre\n",
    "        self.nota_media=sum(notas)*1.0/len(notas) # ¿Por qué multiplicar por 1.0?\n",
    "\n",
    "Tras este paso, habrá que incluir en la clase un par de métodos para imprimir parámetros y mostrar el resultado de la evaluación. Expendiendo esta sección, encontrarás la solución del problema, intenta antes hacerlo por ti mismo y comparar los resultados.\n",
    "\n",
    "Solución: Los métodos faltantes son:\n",
    "\n",
    "# función para imprimir los datos\n",
    "    def imprimir(self):\n",
    "      print(\"Nombre: \",self.nombre)\n",
    "      print(\"Nota media: \",self.nota_media)\n",
    "\n",
    "\n",
    "    # función para obtener el resultado\n",
    "    def resultado(self):\n",
    "      if self.nota_media < 5:\n",
    "        print(\"El alumno ha suspendido\")\n",
    "      else:\n",
    "        print(\"El alumno ha aprobado\")\n",
    "\n",
    "Ahora probamos el código con un ejemplo:\n",
    "In [ ]:\n",
    "\n",
    "Nombre:  Ambrosio\n",
    "Nota media:  6.0\n",
    "El alumno ha aprobado\n",
    "\n"
   ]
  },
  {
   "cell_type": "code",
   "execution_count": 8,
   "id": "918f7a6f",
   "metadata": {},
   "outputs": [
    {
     "name": "stdout",
     "output_type": "stream",
     "text": [
      "Alumno: Juan\n",
      "Nota media: 6.0\n",
      "El alumno ha aprobado\n",
      "Alumno: Pedro\n",
      "Nota media: 3.0\n",
      "El alumno ha suspendido\n"
     ]
    }
   ],
   "source": [
    "class Alumno:\n",
    "    #inicializamos la clase con el nombre y las notas\n",
    "    def __init__(self, nombre, notas):\n",
    "        self.nombre = nombre\n",
    "        self.nota_media = sum(notas)*1.0/len(notas)\n",
    "\n",
    "    def imprimir(self):\n",
    "        print(f'Alumno: {self.nombre}')\n",
    "        print(f'Nota media: {self.nota_media}') \n",
    "\n",
    "    def resultado(self):\n",
    "        if self.nota_media < 5:\n",
    "            print('El alumno ha suspendido')\n",
    "        else:\n",
    "            print('El alumno ha aprobado')\n",
    "\n",
    "alumno1 = Alumno('Juan', [5, 6, 7])\n",
    "alumno1.imprimir()\n",
    "alumno1.resultado()\n",
    "\n",
    "alumno2 = Alumno('Pedro', [3, 4, 2])\n",
    "alumno2.imprimir()      \n",
    "alumno2.resultado()"
   ]
  }
 ],
 "metadata": {
  "kernelspec": {
   "display_name": "Python 3",
   "language": "python",
   "name": "python3"
  },
  "language_info": {
   "codemirror_mode": {
    "name": "ipython",
    "version": 3
   },
   "file_extension": ".py",
   "mimetype": "text/x-python",
   "name": "python",
   "nbconvert_exporter": "python",
   "pygments_lexer": "ipython3",
   "version": "3.13.1"
  }
 },
 "nbformat": 4,
 "nbformat_minor": 5
}
